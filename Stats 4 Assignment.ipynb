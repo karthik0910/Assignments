{
 "cells": [
  {
   "cell_type": "markdown",
   "metadata": {},
   "source": [
    "Problem Statement 1:\n",
    "    \n",
    "    \n",
    "    \n",
    "Is gender independent of education level? A random sample of 395 people were\n",
    "surveyed and each person was asked to report the highest education level they\n",
    "obtained. The data that resulted from the survey is summarized in the following table:\n",
    "    \n",
    "    \n",
    "High School Bachelors Masters Ph.d. Total\n",
    "\n",
    "Female 60 54 46 41 201\n",
    "\n",
    "Male 40 44 53 57 194\n",
    "\n",
    "Total 100 98 99 98 395\n",
    "\n",
    "\n",
    "\n",
    "Question: Are gender and education level dependent at 5% level of significance? In\n",
    "other words, given the data collected above, is there a relationship between the\n",
    "gender of an individual and the level of education that they have obtained?"
   ]
  },
  {
   "cell_type": "raw",
   "metadata": {},
   "source": [
    "H0:  Gender and Education level are independent\n",
    "H1:  Gender and Education level are dependent at 0.05\n",
    "    \n",
    "    \n",
    "            High School Bachelors Masters   Ph.d.       Total\n",
    "\n",
    "    Female     60         54        46       41           201\n",
    "\n",
    "     Male      40         44        53       57           194\n",
    "\n",
    "    Total     100         98        99       98           395\n",
    "    \n",
    "    \n",
    "\n",
    "\n",
    "\n",
    "\n",
    "Expected values\n",
    "\n",
    "          High School    Bachelors    Masters     Ph.d.       \n",
    "\n",
    "  Female       50.8        49.86        50.3       49.86\n",
    "  \n",
    "\n",
    "  Male          49.1         48.1       48.6      48.1\n",
    "\n",
    "                                          \n",
    "    chi-square statistic  = 8.006\n",
    "    \n",
    "    \n",
    "degrees of freedom = (4-1)*(2-1) = 3\n",
    "\n",
    "critical value at df =3 is  7.815 ;  chi-square statistic>critical value \n",
    "\n",
    "\n",
    "Hence there is enough evidence to reject null hypothesis. Therefore we can say that there a relationship between the gender of an individual and the level of education."
   ]
  },
  {
   "cell_type": "markdown",
   "metadata": {},
   "source": [
    "Problem Statement 2:\n",
    "    \n",
    "    \n",
    "Using the following data, perform a oneway analysis of variance using α=.05. Write\n",
    "up the results in APA format.\n",
    "\n",
    "\n",
    "[Group1: 51, 45, 33, 45, 67]\n",
    "\n",
    "[Group2: 23, 43, 23, 43, 45]\n",
    "\n",
    "[Group3: 56, 76, 74, 87, 56]"
   ]
  },
  {
   "cell_type": "raw",
   "metadata": {},
   "source": [
    "grand mean  = 48.2+35.4+69.8/3 = 51.1\n",
    "\n",
    "Between Group Variability (SST) = 5*(48.2-51.1)^2+5*(35.4-51.1)^2+5*(69.8-51.1)^2 = 604.58\n",
    "\n",
    "MeanSSbetween(MSST) = 604.58/(3-1) = 302.29\n",
    "\n",
    "Within Group Variability (SSE) = 1511.45\n",
    "\n",
    "Degree of Freedom for within variability= 15-3 = 12\n",
    "\n",
    "MeanSSwithin(MSSE) = 1511.45/12 = 125.954\n",
    "\n",
    "\n",
    "F-statistics = MSST/MSSE  = 302.29/125.954 = 2.4\n",
    "\n",
    "At 5% significance and degree of freedom (2,12) critical F value = 3.89\n",
    "\n",
    "critical F value > F-statistics\n",
    "\n",
    "Reject Null Hypothesis"
   ]
  },
  {
   "cell_type": "markdown",
   "metadata": {},
   "source": [
    "Problem Statement 3:\n",
    "    \n",
    "    \n",
    "Calculate F Test for given 10, 20, 30, 40, 50 and 5,10,15, 20, 25.\n",
    "\n",
    "For 10, 20, 30, 40, 50:\n",
    "    \n",
    "    "
   ]
  },
  {
   "cell_type": "code",
   "execution_count": 4,
   "metadata": {},
   "outputs": [
    {
     "data": {
      "text/plain": [
       "(4.0, 0.10399999999999998)"
      ]
     },
     "execution_count": 4,
     "metadata": {},
     "output_type": "execute_result"
    }
   ],
   "source": [
    "import numpy as np\n",
    "from scipy import stats\n",
    "\n",
    "H0: the population variances are equal\n",
    "H1: the population variances are not equal \n",
    "\n",
    "x = [10,20,30,40,50]\n",
    "y=  [5,10,15,20,25]\n",
    "\n",
    "\n",
    "\n",
    "def f_test(x, y):\n",
    "    x = np.array(x)\n",
    "    y = np.array(y)\n",
    "    f = np.var(x, ddof=1)/np.var(y, ddof=1) #calculate F test statistic \n",
    "    dfn = x.size-1 #define degrees of freedom numerator \n",
    "    dfd = y.size-1 #define degrees of freedom denominator \n",
    "    p = 1-stats.f.cdf(f, dfn, dfd) #find p-value of F test statistic \n",
    "    return f, p\n",
    "\n",
    "f_test(x, y)\n",
    "\n",
    "Since this p-value>0.05, we accept the null hypothesis. This means we have sufficient evidence to say that the two population variances are  equal."
   ]
  },
  {
   "cell_type": "code",
   "execution_count": null,
   "metadata": {},
   "outputs": [],
   "source": []
  }
 ],
 "metadata": {
  "kernelspec": {
   "display_name": "Python 3",
   "language": "python",
   "name": "python3"
  },
  "language_info": {
   "codemirror_mode": {
    "name": "ipython",
    "version": 3
   },
   "file_extension": ".py",
   "mimetype": "text/x-python",
   "name": "python",
   "nbconvert_exporter": "python",
   "pygments_lexer": "ipython3",
   "version": "3.7.3"
  }
 },
 "nbformat": 4,
 "nbformat_minor": 2
}
