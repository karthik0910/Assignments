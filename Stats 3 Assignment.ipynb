{
 "cells": [
  {
   "cell_type": "markdown",
   "metadata": {},
   "source": [
    "Problem Statement 1:\n",
    "    \n",
    "    \n",
    "Blood glucose levels for obese patients have a mean of 100 with a standard deviation of 15. A researcher thinks that a diet high in raw cornstarch will have a positive effect on\n",
    "blood glucose levels. A sample of 36 patients who have tried the raw cornstarch diet\n",
    "have a mean glucose level of 108. Test the hypothesis that the raw cornstarch had an\n",
    "effect or not."
   ]
  },
  {
   "cell_type": "raw",
   "metadata": {},
   "source": [
    "Solution:\n",
    "\n",
    "H0:  raw cornstarch will not have a effect on blood glucose levels\n",
    "    \n",
    "H1: raw cornstarch will have a effect on blood glucose levels ; at α = 0.05\n",
    "    \n",
    "    \n",
    "    \n",
    "z-test = ((108-100)/(15/(36)^0.5)) = 3.2\n",
    "\n",
    "\n",
    "z(α = 0.05) = 1.64\n",
    "\n",
    "\n",
    "z(α = 0.05) < z-test. The test statistic value is greater than critical value. So we reject null hypothesis. Therefore we can say that raw cornstarch will have a effect on blood glucose levels.\n",
    "\n"
   ]
  },
  {
   "cell_type": "markdown",
   "metadata": {},
   "source": [
    "Problem Statement 2:\n",
    "    \n",
    "    \n",
    "    \n",
    "In one state, 52% of the voters are Republicans, and 48% are Democrats. In a second\n",
    "state, 47% of the voters are Republicans, and 53% are Democrats. Suppose a simple\n",
    "random sample of 100 voters are surveyed from each state.\n",
    "What is the probability that the survey will show a greater percentage of Republican\n",
    "voters in the second state than in the first state?"
   ]
  },
  {
   "cell_type": "raw",
   "metadata": {},
   "source": [
    "p1 = proportions of voters are Republicans in state one\n",
    "p2 = proportions of voters are Republicans in state two\n",
    "\n",
    "\n",
    "p1 = 0.52\n",
    "p2 = 0.47\n",
    "\n",
    "\n",
    "n1P1 = 100 * 0.52 = 52\n",
    "\n",
    "n1(1 - P1) = 100 * 0.48 = 48\n",
    "\n",
    "n2P2 = 100 * 0.47 = 47\n",
    "\n",
    "n2(1 - P2) = 100 * 0.53 = 53\n",
    "\n",
    "\n",
    "The above four are each greater than 10, the sample size is large enough. Hence we use Z test\n",
    "\n",
    "mean of the difference in sample proportions: E(p1 - p2) = P1 - P2 = 0.52 - 0.47 = 0.05.\n",
    "\n",
    "standard deviation of the difference = ([ P1(1 - P1) / n1 ] + [ P2(1 - P2) / n2 ])^2 = 0.0706\n",
    "\n",
    "z = (0-0.05)/0.0706 = -0.7082\n",
    "\n",
    "p(x<-0.7082) = 0.24\n",
    "\n",
    "\n",
    "The probability that the survey will show a greater percentage of Republican voters in the second state than in the first state = 0.24\n"
   ]
  },
  {
   "cell_type": "markdown",
   "metadata": {},
   "source": [
    "Problem Statement 3:\n",
    "    \n",
    "You take the SAT and score 1100. The mean score for the SAT is 1026 and the standard\n",
    "deviation is 209. How well did you score on the test compared to the average test taker?"
   ]
  },
  {
   "cell_type": "raw",
   "metadata": {},
   "source": [
    "x = 1100\n",
    "\n",
    "mean = 1026\n",
    "\n",
    "sd = 209\n",
    "\n",
    "z = (1100-1026)/209 = 0.354 \n",
    "\n",
    "\n",
    "prob(x<=0.354) = 0.6368 = 63.68% this states 63% of test takers scored below you.\n",
    "\n",
    "\n",
    "\n",
    "\n"
   ]
  },
  {
   "cell_type": "code",
   "execution_count": null,
   "metadata": {},
   "outputs": [],
   "source": []
  }
 ],
 "metadata": {
  "kernelspec": {
   "display_name": "Python 3",
   "language": "python",
   "name": "python3"
  },
  "language_info": {
   "codemirror_mode": {
    "name": "ipython",
    "version": 3
   },
   "file_extension": ".py",
   "mimetype": "text/x-python",
   "name": "python",
   "nbconvert_exporter": "python",
   "pygments_lexer": "ipython3",
   "version": "3.7.3"
  }
 },
 "nbformat": 4,
 "nbformat_minor": 2
}
