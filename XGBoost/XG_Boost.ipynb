{
 "cells": [
  {
   "cell_type": "code",
   "execution_count": 1,
   "metadata": {},
   "outputs": [],
   "source": [
    "import pandas as pd\n",
    "import numpy as np\n",
    "import matplotlib.pyplot as plt\n",
    "import seaborn as sns\n",
    "from sklearn.model_selection import train_test_split\n",
    "from xgboost import XGBClassifier\n",
    "from sklearn.preprocessing import MinMaxScaler\n",
    "from sklearn.metrics import accuracy_score\n",
    "from sklearn.model_selection import GridSearchCV\n",
    "from sklearn.metrics import confusion_matrix\n",
    "import os\n"
   ]
  },
  {
   "cell_type": "code",
   "execution_count": 6,
   "metadata": {},
   "outputs": [],
   "source": [
    "os.chdir(\"C:\\\\Users\\\\TBRC-lap35\\\\Desktop\\\\Assignments\\\\XGBoost\")"
   ]
  },
  {
   "cell_type": "code",
   "execution_count": 5,
   "metadata": {},
   "outputs": [],
   "source": [
    "\n",
    "df = pd.read_csv(\"C:\\\\Users\\\\TBRC-lap35\\\\Downloads\\\\adult.data\",names = [\"age\",\"workclass\",\"fnlwgt\",\"education\",\"education_num\",\"marital_status\",\"occupation\",\"relationship\",\"race\",\"sex\",\"capital_gain\",\"capital_loss\",\"hours_per_week\",\"native_country\",\"attributes\"])\n",
    "test = pd.read_csv(\"C:\\\\Users\\\\TBRC-lap35\\\\Downloads\\\\adult.test\",names = [\"age\",\"workclass\",\"fnlwgt\",\"education\",\"education_num\",\"marital_status\",\"occupation\",\"relationship\",\"race\",\"sex\",\"capital_gain\",\"capital_loss\",\"hours_per_week\",\"native_country\",\"attributes\"])"
   ]
  },
  {
   "cell_type": "code",
   "execution_count": 9,
   "metadata": {},
   "outputs": [],
   "source": [
    "test.to_excel(\"test.xlsx\")"
   ]
  },
  {
   "cell_type": "code",
   "execution_count": 8,
   "metadata": {},
   "outputs": [],
   "source": [
    "#removning the first column in test set\n",
    "test = test.iloc[1:,]\n",
    "test.reset_index(drop=True,inplace = True)"
   ]
  },
  {
   "cell_type": "code",
   "execution_count": 5,
   "metadata": {},
   "outputs": [
    {
     "data": {
      "text/html": [
       "<div>\n",
       "<style scoped>\n",
       "    .dataframe tbody tr th:only-of-type {\n",
       "        vertical-align: middle;\n",
       "    }\n",
       "\n",
       "    .dataframe tbody tr th {\n",
       "        vertical-align: top;\n",
       "    }\n",
       "\n",
       "    .dataframe thead th {\n",
       "        text-align: right;\n",
       "    }\n",
       "</style>\n",
       "<table border=\"1\" class=\"dataframe\">\n",
       "  <thead>\n",
       "    <tr style=\"text-align: right;\">\n",
       "      <th></th>\n",
       "      <th>age</th>\n",
       "      <th>workclass</th>\n",
       "      <th>fnlwgt</th>\n",
       "      <th>education</th>\n",
       "      <th>education_num</th>\n",
       "      <th>marital_status</th>\n",
       "      <th>occupation</th>\n",
       "      <th>relationship</th>\n",
       "      <th>race</th>\n",
       "      <th>sex</th>\n",
       "      <th>capital_gain</th>\n",
       "      <th>capital_loss</th>\n",
       "      <th>hours_per_week</th>\n",
       "      <th>native_country</th>\n",
       "      <th>attributes</th>\n",
       "    </tr>\n",
       "  </thead>\n",
       "  <tbody>\n",
       "    <tr>\n",
       "      <th>0</th>\n",
       "      <td>39</td>\n",
       "      <td>State-gov</td>\n",
       "      <td>77516</td>\n",
       "      <td>Bachelors</td>\n",
       "      <td>13</td>\n",
       "      <td>Never-married</td>\n",
       "      <td>Adm-clerical</td>\n",
       "      <td>Not-in-family</td>\n",
       "      <td>White</td>\n",
       "      <td>Male</td>\n",
       "      <td>2174</td>\n",
       "      <td>0</td>\n",
       "      <td>40</td>\n",
       "      <td>United-States</td>\n",
       "      <td>&lt;=50K</td>\n",
       "    </tr>\n",
       "    <tr>\n",
       "      <th>1</th>\n",
       "      <td>50</td>\n",
       "      <td>Self-emp-not-inc</td>\n",
       "      <td>83311</td>\n",
       "      <td>Bachelors</td>\n",
       "      <td>13</td>\n",
       "      <td>Married-civ-spouse</td>\n",
       "      <td>Exec-managerial</td>\n",
       "      <td>Husband</td>\n",
       "      <td>White</td>\n",
       "      <td>Male</td>\n",
       "      <td>0</td>\n",
       "      <td>0</td>\n",
       "      <td>13</td>\n",
       "      <td>United-States</td>\n",
       "      <td>&lt;=50K</td>\n",
       "    </tr>\n",
       "    <tr>\n",
       "      <th>2</th>\n",
       "      <td>38</td>\n",
       "      <td>Private</td>\n",
       "      <td>215646</td>\n",
       "      <td>HS-grad</td>\n",
       "      <td>9</td>\n",
       "      <td>Divorced</td>\n",
       "      <td>Handlers-cleaners</td>\n",
       "      <td>Not-in-family</td>\n",
       "      <td>White</td>\n",
       "      <td>Male</td>\n",
       "      <td>0</td>\n",
       "      <td>0</td>\n",
       "      <td>40</td>\n",
       "      <td>United-States</td>\n",
       "      <td>&lt;=50K</td>\n",
       "    </tr>\n",
       "    <tr>\n",
       "      <th>3</th>\n",
       "      <td>53</td>\n",
       "      <td>Private</td>\n",
       "      <td>234721</td>\n",
       "      <td>11th</td>\n",
       "      <td>7</td>\n",
       "      <td>Married-civ-spouse</td>\n",
       "      <td>Handlers-cleaners</td>\n",
       "      <td>Husband</td>\n",
       "      <td>Black</td>\n",
       "      <td>Male</td>\n",
       "      <td>0</td>\n",
       "      <td>0</td>\n",
       "      <td>40</td>\n",
       "      <td>United-States</td>\n",
       "      <td>&lt;=50K</td>\n",
       "    </tr>\n",
       "    <tr>\n",
       "      <th>4</th>\n",
       "      <td>28</td>\n",
       "      <td>Private</td>\n",
       "      <td>338409</td>\n",
       "      <td>Bachelors</td>\n",
       "      <td>13</td>\n",
       "      <td>Married-civ-spouse</td>\n",
       "      <td>Prof-specialty</td>\n",
       "      <td>Wife</td>\n",
       "      <td>Black</td>\n",
       "      <td>Female</td>\n",
       "      <td>0</td>\n",
       "      <td>0</td>\n",
       "      <td>40</td>\n",
       "      <td>Cuba</td>\n",
       "      <td>&lt;=50K</td>\n",
       "    </tr>\n",
       "  </tbody>\n",
       "</table>\n",
       "</div>"
      ],
      "text/plain": [
       "   age          workclass  fnlwgt   education  education_num  \\\n",
       "0   39          State-gov   77516   Bachelors             13   \n",
       "1   50   Self-emp-not-inc   83311   Bachelors             13   \n",
       "2   38            Private  215646     HS-grad              9   \n",
       "3   53            Private  234721        11th              7   \n",
       "4   28            Private  338409   Bachelors             13   \n",
       "\n",
       "        marital_status          occupation    relationship    race      sex  \\\n",
       "0        Never-married        Adm-clerical   Not-in-family   White     Male   \n",
       "1   Married-civ-spouse     Exec-managerial         Husband   White     Male   \n",
       "2             Divorced   Handlers-cleaners   Not-in-family   White     Male   \n",
       "3   Married-civ-spouse   Handlers-cleaners         Husband   Black     Male   \n",
       "4   Married-civ-spouse      Prof-specialty            Wife   Black   Female   \n",
       "\n",
       "   capital_gain  capital_loss  hours_per_week  native_country attributes  \n",
       "0          2174             0              40   United-States      <=50K  \n",
       "1             0             0              13   United-States      <=50K  \n",
       "2             0             0              40   United-States      <=50K  \n",
       "3             0             0              40   United-States      <=50K  \n",
       "4             0             0              40            Cuba      <=50K  "
      ]
     },
     "execution_count": 5,
     "metadata": {},
     "output_type": "execute_result"
    }
   ],
   "source": [
    "df.head()"
   ]
  },
  {
   "cell_type": "code",
   "execution_count": 6,
   "metadata": {},
   "outputs": [
    {
     "data": {
      "text/html": [
       "<div>\n",
       "<style scoped>\n",
       "    .dataframe tbody tr th:only-of-type {\n",
       "        vertical-align: middle;\n",
       "    }\n",
       "\n",
       "    .dataframe tbody tr th {\n",
       "        vertical-align: top;\n",
       "    }\n",
       "\n",
       "    .dataframe thead th {\n",
       "        text-align: right;\n",
       "    }\n",
       "</style>\n",
       "<table border=\"1\" class=\"dataframe\">\n",
       "  <thead>\n",
       "    <tr style=\"text-align: right;\">\n",
       "      <th></th>\n",
       "      <th>age</th>\n",
       "      <th>workclass</th>\n",
       "      <th>fnlwgt</th>\n",
       "      <th>education</th>\n",
       "      <th>education_num</th>\n",
       "      <th>marital_status</th>\n",
       "      <th>occupation</th>\n",
       "      <th>relationship</th>\n",
       "      <th>race</th>\n",
       "      <th>sex</th>\n",
       "      <th>capital_gain</th>\n",
       "      <th>capital_loss</th>\n",
       "      <th>hours_per_week</th>\n",
       "      <th>native_country</th>\n",
       "      <th>attributes</th>\n",
       "    </tr>\n",
       "  </thead>\n",
       "  <tbody>\n",
       "    <tr>\n",
       "      <th>0</th>\n",
       "      <td>25</td>\n",
       "      <td>Private</td>\n",
       "      <td>226802.0</td>\n",
       "      <td>11th</td>\n",
       "      <td>7.0</td>\n",
       "      <td>Never-married</td>\n",
       "      <td>Machine-op-inspct</td>\n",
       "      <td>Own-child</td>\n",
       "      <td>Black</td>\n",
       "      <td>Male</td>\n",
       "      <td>0.0</td>\n",
       "      <td>0.0</td>\n",
       "      <td>40.0</td>\n",
       "      <td>United-States</td>\n",
       "      <td>&lt;=50K.</td>\n",
       "    </tr>\n",
       "    <tr>\n",
       "      <th>1</th>\n",
       "      <td>38</td>\n",
       "      <td>Private</td>\n",
       "      <td>89814.0</td>\n",
       "      <td>HS-grad</td>\n",
       "      <td>9.0</td>\n",
       "      <td>Married-civ-spouse</td>\n",
       "      <td>Farming-fishing</td>\n",
       "      <td>Husband</td>\n",
       "      <td>White</td>\n",
       "      <td>Male</td>\n",
       "      <td>0.0</td>\n",
       "      <td>0.0</td>\n",
       "      <td>50.0</td>\n",
       "      <td>United-States</td>\n",
       "      <td>&lt;=50K.</td>\n",
       "    </tr>\n",
       "    <tr>\n",
       "      <th>2</th>\n",
       "      <td>28</td>\n",
       "      <td>Local-gov</td>\n",
       "      <td>336951.0</td>\n",
       "      <td>Assoc-acdm</td>\n",
       "      <td>12.0</td>\n",
       "      <td>Married-civ-spouse</td>\n",
       "      <td>Protective-serv</td>\n",
       "      <td>Husband</td>\n",
       "      <td>White</td>\n",
       "      <td>Male</td>\n",
       "      <td>0.0</td>\n",
       "      <td>0.0</td>\n",
       "      <td>40.0</td>\n",
       "      <td>United-States</td>\n",
       "      <td>&gt;50K.</td>\n",
       "    </tr>\n",
       "    <tr>\n",
       "      <th>3</th>\n",
       "      <td>44</td>\n",
       "      <td>Private</td>\n",
       "      <td>160323.0</td>\n",
       "      <td>Some-college</td>\n",
       "      <td>10.0</td>\n",
       "      <td>Married-civ-spouse</td>\n",
       "      <td>Machine-op-inspct</td>\n",
       "      <td>Husband</td>\n",
       "      <td>Black</td>\n",
       "      <td>Male</td>\n",
       "      <td>7688.0</td>\n",
       "      <td>0.0</td>\n",
       "      <td>40.0</td>\n",
       "      <td>United-States</td>\n",
       "      <td>&gt;50K.</td>\n",
       "    </tr>\n",
       "    <tr>\n",
       "      <th>4</th>\n",
       "      <td>18</td>\n",
       "      <td>?</td>\n",
       "      <td>103497.0</td>\n",
       "      <td>Some-college</td>\n",
       "      <td>10.0</td>\n",
       "      <td>Never-married</td>\n",
       "      <td>?</td>\n",
       "      <td>Own-child</td>\n",
       "      <td>White</td>\n",
       "      <td>Female</td>\n",
       "      <td>0.0</td>\n",
       "      <td>0.0</td>\n",
       "      <td>30.0</td>\n",
       "      <td>United-States</td>\n",
       "      <td>&lt;=50K.</td>\n",
       "    </tr>\n",
       "  </tbody>\n",
       "</table>\n",
       "</div>"
      ],
      "text/plain": [
       "  age   workclass    fnlwgt      education  education_num  \\\n",
       "0  25     Private  226802.0           11th            7.0   \n",
       "1  38     Private   89814.0        HS-grad            9.0   \n",
       "2  28   Local-gov  336951.0     Assoc-acdm           12.0   \n",
       "3  44     Private  160323.0   Some-college           10.0   \n",
       "4  18           ?  103497.0   Some-college           10.0   \n",
       "\n",
       "        marital_status          occupation relationship    race      sex  \\\n",
       "0        Never-married   Machine-op-inspct    Own-child   Black     Male   \n",
       "1   Married-civ-spouse     Farming-fishing      Husband   White     Male   \n",
       "2   Married-civ-spouse     Protective-serv      Husband   White     Male   \n",
       "3   Married-civ-spouse   Machine-op-inspct      Husband   Black     Male   \n",
       "4        Never-married                   ?    Own-child   White   Female   \n",
       "\n",
       "   capital_gain  capital_loss  hours_per_week  native_country attributes  \n",
       "0           0.0           0.0            40.0   United-States     <=50K.  \n",
       "1           0.0           0.0            50.0   United-States     <=50K.  \n",
       "2           0.0           0.0            40.0   United-States      >50K.  \n",
       "3        7688.0           0.0            40.0   United-States      >50K.  \n",
       "4           0.0           0.0            30.0   United-States     <=50K.  "
      ]
     },
     "execution_count": 6,
     "metadata": {},
     "output_type": "execute_result"
    }
   ],
   "source": [
    "test.head()"
   ]
  },
  {
   "cell_type": "code",
   "execution_count": 7,
   "metadata": {},
   "outputs": [
    {
     "name": "stderr",
     "output_type": "stream",
     "text": [
      "<ipython-input-7-fd5966a10c69>:3: SettingWithCopyWarning: \n",
      "A value is trying to be set on a copy of a slice from a DataFrame\n",
      "\n",
      "See the caveats in the documentation: https://pandas.pydata.org/pandas-docs/stable/user_guide/indexing.html#returning-a-view-versus-a-copy\n",
      "  test[\"attributes\"][i] = test[\"attributes\"][i].replace(\".\",\"\")\n"
     ]
    }
   ],
   "source": [
    "#replacning \".\" in the attributes in test dataset\n",
    "for i in range(0,len(test.attributes)):\n",
    "    test[\"attributes\"][i] = test[\"attributes\"][i].replace(\".\",\"\")"
   ]
  },
  {
   "cell_type": "markdown",
   "metadata": {},
   "source": [
    "# Data Analysis and Feature engineering "
   ]
  },
  {
   "cell_type": "code",
   "execution_count": 8,
   "metadata": {},
   "outputs": [
    {
     "data": {
      "text/html": [
       "<div>\n",
       "<style scoped>\n",
       "    .dataframe tbody tr th:only-of-type {\n",
       "        vertical-align: middle;\n",
       "    }\n",
       "\n",
       "    .dataframe tbody tr th {\n",
       "        vertical-align: top;\n",
       "    }\n",
       "\n",
       "    .dataframe thead th {\n",
       "        text-align: right;\n",
       "    }\n",
       "</style>\n",
       "<table border=\"1\" class=\"dataframe\">\n",
       "  <thead>\n",
       "    <tr style=\"text-align: right;\">\n",
       "      <th></th>\n",
       "      <th>age</th>\n",
       "      <th>fnlwgt</th>\n",
       "      <th>education_num</th>\n",
       "      <th>capital_gain</th>\n",
       "      <th>capital_loss</th>\n",
       "      <th>hours_per_week</th>\n",
       "    </tr>\n",
       "  </thead>\n",
       "  <tbody>\n",
       "    <tr>\n",
       "      <th>count</th>\n",
       "      <td>32561.000000</td>\n",
       "      <td>3.256100e+04</td>\n",
       "      <td>32561.000000</td>\n",
       "      <td>32561.000000</td>\n",
       "      <td>32561.000000</td>\n",
       "      <td>32561.000000</td>\n",
       "    </tr>\n",
       "    <tr>\n",
       "      <th>mean</th>\n",
       "      <td>38.581647</td>\n",
       "      <td>1.897784e+05</td>\n",
       "      <td>10.080679</td>\n",
       "      <td>1077.648844</td>\n",
       "      <td>87.303830</td>\n",
       "      <td>40.437456</td>\n",
       "    </tr>\n",
       "    <tr>\n",
       "      <th>std</th>\n",
       "      <td>13.640433</td>\n",
       "      <td>1.055500e+05</td>\n",
       "      <td>2.572720</td>\n",
       "      <td>7385.292085</td>\n",
       "      <td>402.960219</td>\n",
       "      <td>12.347429</td>\n",
       "    </tr>\n",
       "    <tr>\n",
       "      <th>min</th>\n",
       "      <td>17.000000</td>\n",
       "      <td>1.228500e+04</td>\n",
       "      <td>1.000000</td>\n",
       "      <td>0.000000</td>\n",
       "      <td>0.000000</td>\n",
       "      <td>1.000000</td>\n",
       "    </tr>\n",
       "    <tr>\n",
       "      <th>25%</th>\n",
       "      <td>28.000000</td>\n",
       "      <td>1.178270e+05</td>\n",
       "      <td>9.000000</td>\n",
       "      <td>0.000000</td>\n",
       "      <td>0.000000</td>\n",
       "      <td>40.000000</td>\n",
       "    </tr>\n",
       "    <tr>\n",
       "      <th>50%</th>\n",
       "      <td>37.000000</td>\n",
       "      <td>1.783560e+05</td>\n",
       "      <td>10.000000</td>\n",
       "      <td>0.000000</td>\n",
       "      <td>0.000000</td>\n",
       "      <td>40.000000</td>\n",
       "    </tr>\n",
       "    <tr>\n",
       "      <th>75%</th>\n",
       "      <td>48.000000</td>\n",
       "      <td>2.370510e+05</td>\n",
       "      <td>12.000000</td>\n",
       "      <td>0.000000</td>\n",
       "      <td>0.000000</td>\n",
       "      <td>45.000000</td>\n",
       "    </tr>\n",
       "    <tr>\n",
       "      <th>max</th>\n",
       "      <td>90.000000</td>\n",
       "      <td>1.484705e+06</td>\n",
       "      <td>16.000000</td>\n",
       "      <td>99999.000000</td>\n",
       "      <td>4356.000000</td>\n",
       "      <td>99.000000</td>\n",
       "    </tr>\n",
       "  </tbody>\n",
       "</table>\n",
       "</div>"
      ],
      "text/plain": [
       "                age        fnlwgt  education_num  capital_gain  capital_loss  \\\n",
       "count  32561.000000  3.256100e+04   32561.000000  32561.000000  32561.000000   \n",
       "mean      38.581647  1.897784e+05      10.080679   1077.648844     87.303830   \n",
       "std       13.640433  1.055500e+05       2.572720   7385.292085    402.960219   \n",
       "min       17.000000  1.228500e+04       1.000000      0.000000      0.000000   \n",
       "25%       28.000000  1.178270e+05       9.000000      0.000000      0.000000   \n",
       "50%       37.000000  1.783560e+05      10.000000      0.000000      0.000000   \n",
       "75%       48.000000  2.370510e+05      12.000000      0.000000      0.000000   \n",
       "max       90.000000  1.484705e+06      16.000000  99999.000000   4356.000000   \n",
       "\n",
       "       hours_per_week  \n",
       "count    32561.000000  \n",
       "mean        40.437456  \n",
       "std         12.347429  \n",
       "min          1.000000  \n",
       "25%         40.000000  \n",
       "50%         40.000000  \n",
       "75%         45.000000  \n",
       "max         99.000000  "
      ]
     },
     "execution_count": 8,
     "metadata": {},
     "output_type": "execute_result"
    }
   ],
   "source": [
    "df.describe()"
   ]
  },
  {
   "cell_type": "code",
   "execution_count": 9,
   "metadata": {},
   "outputs": [],
   "source": [
    "columns = [\"workclass\",\"education\",\"marital_status\",\"occupation\",\"relationship\",\"race\",\"sex\",\"native_country\",\"attributes\"]"
   ]
  },
  {
   "cell_type": "code",
   "execution_count": 10,
   "metadata": {},
   "outputs": [],
   "source": [
    "#removing unwanted spaces in columns\n",
    "for i in columns:\n",
    "    df[i] = df[i].str.strip()\n",
    "    test[i]=test[i].str.strip()"
   ]
  },
  {
   "cell_type": "code",
   "execution_count": 11,
   "metadata": {},
   "outputs": [
    {
     "name": "stdout",
     "output_type": "stream",
     "text": [
      "Private             22696\n",
      "Self-emp-not-inc     2541\n",
      "Local-gov            2093\n",
      "?                    1836\n",
      "State-gov            1298\n",
      "Self-emp-inc         1116\n",
      "Federal-gov           960\n",
      "Without-pay            14\n",
      "Never-worked            7\n",
      "Name: workclass, dtype: int64 \n",
      " ==================================================\n",
      "\n",
      "\n",
      "Private             11210\n",
      "Self-emp-not-inc     1321\n",
      "Local-gov            1043\n",
      "?                     963\n",
      "State-gov             683\n",
      "Self-emp-inc          579\n",
      "Federal-gov           472\n",
      "Without-pay             7\n",
      "Never-worked            3\n",
      "Name: workclass, dtype: int64 \n",
      " ==================================================\n",
      "HS-grad         10501\n",
      "Some-college     7291\n",
      "Bachelors        5355\n",
      "Masters          1723\n",
      "Assoc-voc        1382\n",
      "11th             1175\n",
      "Assoc-acdm       1067\n",
      "10th              933\n",
      "7th-8th           646\n",
      "Prof-school       576\n",
      "9th               514\n",
      "12th              433\n",
      "Doctorate         413\n",
      "5th-6th           333\n",
      "1st-4th           168\n",
      "Preschool          51\n",
      "Name: education, dtype: int64 \n",
      " ==================================================\n",
      "\n",
      "\n",
      "HS-grad         5283\n",
      "Some-college    3587\n",
      "Bachelors       2670\n",
      "Masters          934\n",
      "Assoc-voc        679\n",
      "11th             637\n",
      "Assoc-acdm       534\n",
      "10th             456\n",
      "7th-8th          309\n",
      "Prof-school      258\n",
      "9th              242\n",
      "12th             224\n",
      "Doctorate        181\n",
      "5th-6th          176\n",
      "1st-4th           79\n",
      "Preschool         32\n",
      "Name: education, dtype: int64 \n",
      " ==================================================\n",
      "Married-civ-spouse       14976\n",
      "Never-married            10683\n",
      "Divorced                  4443\n",
      "Separated                 1025\n",
      "Widowed                    993\n",
      "Married-spouse-absent      418\n",
      "Married-AF-spouse           23\n",
      "Name: marital_status, dtype: int64 \n",
      " ==================================================\n",
      "\n",
      "\n",
      "Married-civ-spouse       7403\n",
      "Never-married            5434\n",
      "Divorced                 2190\n",
      "Widowed                   525\n",
      "Separated                 505\n",
      "Married-spouse-absent     210\n",
      "Married-AF-spouse          14\n",
      "Name: marital_status, dtype: int64 \n",
      " ==================================================\n",
      "Prof-specialty       4140\n",
      "Craft-repair         4099\n",
      "Exec-managerial      4066\n",
      "Adm-clerical         3770\n",
      "Sales                3650\n",
      "Other-service        3295\n",
      "Machine-op-inspct    2002\n",
      "?                    1843\n",
      "Transport-moving     1597\n",
      "Handlers-cleaners    1370\n",
      "Farming-fishing       994\n",
      "Tech-support          928\n",
      "Protective-serv       649\n",
      "Priv-house-serv       149\n",
      "Armed-Forces            9\n",
      "Name: occupation, dtype: int64 \n",
      " ==================================================\n",
      "\n",
      "\n",
      "Prof-specialty       2032\n",
      "Exec-managerial      2020\n",
      "Craft-repair         2013\n",
      "Sales                1854\n",
      "Adm-clerical         1841\n",
      "Other-service        1628\n",
      "Machine-op-inspct    1020\n",
      "?                     966\n",
      "Transport-moving      758\n",
      "Handlers-cleaners     702\n",
      "Tech-support          518\n",
      "Farming-fishing       496\n",
      "Protective-serv       334\n",
      "Priv-house-serv        93\n",
      "Armed-Forces            6\n",
      "Name: occupation, dtype: int64 \n",
      " ==================================================\n",
      "Husband           13193\n",
      "Not-in-family      8305\n",
      "Own-child          5068\n",
      "Unmarried          3446\n",
      "Wife               1568\n",
      "Other-relative      981\n",
      "Name: relationship, dtype: int64 \n",
      " ==================================================\n",
      "\n",
      "\n",
      "Husband           6523\n",
      "Not-in-family     4278\n",
      "Own-child         2513\n",
      "Unmarried         1679\n",
      "Wife               763\n",
      "Other-relative     525\n",
      "Name: relationship, dtype: int64 \n",
      " ==================================================\n",
      "White                 27816\n",
      "Black                  3124\n",
      "Asian-Pac-Islander     1039\n",
      "Amer-Indian-Eskimo      311\n",
      "Other                   271\n",
      "Name: race, dtype: int64 \n",
      " ==================================================\n",
      "\n",
      "\n",
      "White                 13946\n",
      "Black                  1561\n",
      "Asian-Pac-Islander      480\n",
      "Amer-Indian-Eskimo      159\n",
      "Other                   135\n",
      "Name: race, dtype: int64 \n",
      " ==================================================\n",
      "Male      21790\n",
      "Female    10771\n",
      "Name: sex, dtype: int64 \n",
      " ==================================================\n",
      "\n",
      "\n",
      "Male      10860\n",
      "Female     5421\n",
      "Name: sex, dtype: int64 \n",
      " ==================================================\n",
      "United-States                 29170\n",
      "Mexico                          643\n",
      "?                               583\n",
      "Philippines                     198\n",
      "Germany                         137\n",
      "Canada                          121\n",
      "Puerto-Rico                     114\n",
      "El-Salvador                     106\n",
      "India                           100\n",
      "Cuba                             95\n",
      "England                          90\n",
      "Jamaica                          81\n",
      "South                            80\n",
      "China                            75\n",
      "Italy                            73\n",
      "Dominican-Republic               70\n",
      "Vietnam                          67\n",
      "Guatemala                        64\n",
      "Japan                            62\n",
      "Poland                           60\n",
      "Columbia                         59\n",
      "Taiwan                           51\n",
      "Haiti                            44\n",
      "Iran                             43\n",
      "Portugal                         37\n",
      "Nicaragua                        34\n",
      "Peru                             31\n",
      "Greece                           29\n",
      "France                           29\n",
      "Ecuador                          28\n",
      "Ireland                          24\n",
      "Hong                             20\n",
      "Cambodia                         19\n",
      "Trinadad&Tobago                  19\n",
      "Laos                             18\n",
      "Thailand                         18\n",
      "Yugoslavia                       16\n",
      "Outlying-US(Guam-USVI-etc)       14\n",
      "Hungary                          13\n",
      "Honduras                         13\n",
      "Scotland                         12\n",
      "Holand-Netherlands                1\n",
      "Name: native_country, dtype: int64 \n",
      " ==================================================\n",
      "\n",
      "\n",
      "United-States                 14662\n",
      "Mexico                          308\n",
      "?                               274\n",
      "Philippines                      97\n",
      "Puerto-Rico                      70\n",
      "Germany                          69\n",
      "Canada                           61\n",
      "India                            51\n",
      "El-Salvador                      49\n",
      "China                            47\n",
      "Cuba                             43\n",
      "England                          37\n",
      "South                            35\n",
      "Dominican-Republic               33\n",
      "Italy                            32\n",
      "Haiti                            31\n",
      "Japan                            30\n",
      "Portugal                         30\n",
      "Poland                           27\n",
      "Columbia                         26\n",
      "Jamaica                          25\n",
      "Guatemala                        24\n",
      "Greece                           20\n",
      "Vietnam                          19\n",
      "Ecuador                          17\n",
      "Iran                             16\n",
      "Peru                             15\n",
      "Nicaragua                        15\n",
      "Taiwan                           14\n",
      "Ireland                          13\n",
      "Thailand                         12\n",
      "Hong                             10\n",
      "Outlying-US(Guam-USVI-etc)        9\n",
      "Cambodia                          9\n",
      "Scotland                          9\n",
      "France                            9\n",
      "Trinadad&Tobago                   8\n",
      "Yugoslavia                        7\n",
      "Honduras                          7\n",
      "Hungary                           6\n",
      "Laos                              5\n",
      "Name: native_country, dtype: int64 \n",
      " ==================================================\n",
      "<=50K    24720\n",
      ">50K      7841\n",
      "Name: attributes, dtype: int64 \n",
      " ==================================================\n",
      "\n",
      "\n",
      "<=50K    12435\n",
      ">50K      3846\n",
      "Name: attributes, dtype: int64 \n",
      " ==================================================\n"
     ]
    }
   ],
   "source": [
    "for i in columns:\n",
    "    print(df[i].value_counts(),\"\\n\",\"=\"*50)\n",
    "    print(\"\\n\")\n",
    "    print(test[i].value_counts(),\"\\n\",\"=\"*50)\n",
    "    \n",
    "    "
   ]
  },
  {
   "cell_type": "code",
   "execution_count": 12,
   "metadata": {},
   "outputs": [],
   "source": [
    "#Replacing \"?\" values with Mode \n",
    "df[\"workclass\"].replace(\"?\",df[\"workclass\"].mode()[0],inplace = True)\n",
    "test[\"workclass\"].replace(\"?\",test[\"workclass\"].mode()[0],inplace = True)"
   ]
  },
  {
   "cell_type": "code",
   "execution_count": 13,
   "metadata": {},
   "outputs": [],
   "source": [
    "#Replace 1st-4th,5th-6th,7th-8th,9th,10th to elementary school\n",
    "#Replace 11th, 12th with HS-grad\n",
    "sch = [\"1st-4th\",\"5th-6th\",\"7th-8th\",\"9th\",\"10th\"]\n",
    "hsgrad = [\"11th\",\"12th\"]\n",
    "df[\"education\"].replace(to_replace=sch,value = \"elementary_school\",inplace=True)\n",
    "df[\"education\"].replace(to_replace=hsgrad,value = \"HS-grad\",inplace=True)\n",
    "test[\"education\"].replace(to_replace=sch,value = \"elementary_school\",inplace=True)\n",
    "test[\"education\"].replace(to_replace=hsgrad,value = \"HS-grad\",inplace=True)"
   ]
  },
  {
   "cell_type": "code",
   "execution_count": 14,
   "metadata": {},
   "outputs": [],
   "source": [
    "#Replacning the marital_status into two categories married and unmarried\n",
    "married = [\"Married-civ-spouse\",\"Divorced\",\"Separated\",\"Widowed\",\"Married-spouse-absent\",\"Married-AF-spouse\"]\n",
    "unmarried = [\"Never-married\"]\n",
    "df[\"marital_status\"].replace(to_replace=married,value = \"married\",inplace=True)\n",
    "df[\"marital_status\"].replace(to_replace=unmarried,value = \"unmarried\",inplace=True)\n",
    "test[\"marital_status\"].replace(to_replace=married,value = \"married\",inplace=True)\n",
    "test[\"marital_status\"].replace(to_replace=unmarried,value = \"unmarried\",inplace=True)"
   ]
  },
  {
   "cell_type": "code",
   "execution_count": 15,
   "metadata": {},
   "outputs": [],
   "source": [
    "#replacing the ? with the mode of the column\n",
    "df[\"occupation\"].replace(\"?\",df[\"occupation\"].mode()[0],inplace = True)\n",
    "test[\"occupation\"].replace(\"?\",test[\"occupation\"].mode()[0],inplace = True)"
   ]
  },
  {
   "cell_type": "code",
   "execution_count": 16,
   "metadata": {},
   "outputs": [],
   "source": [
    "#replacing the ? with the mode of the column\n",
    "df[\"native_country\"].replace(\"?\",df[\"native_country\"].mode()[0],inplace = True)\n",
    "test[\"native_country\"].replace(\"?\",test[\"native_country\"].mode()[0],inplace = True)"
   ]
  },
  {
   "cell_type": "code",
   "execution_count": 17,
   "metadata": {},
   "outputs": [
    {
     "data": {
      "text/plain": [
       "<=50K    24720\n",
       ">50K      7841\n",
       "Name: attributes, dtype: int64"
      ]
     },
     "execution_count": 17,
     "metadata": {},
     "output_type": "execute_result"
    }
   ],
   "source": [
    "df[\"attributes\"].value_counts()"
   ]
  },
  {
   "cell_type": "code",
   "execution_count": 18,
   "metadata": {},
   "outputs": [
    {
     "data": {
      "text/plain": [
       "<=50K    12435\n",
       ">50K      3846\n",
       "Name: attributes, dtype: int64"
      ]
     },
     "execution_count": 18,
     "metadata": {},
     "output_type": "execute_result"
    }
   ],
   "source": [
    "test[\"attributes\"].value_counts()"
   ]
  },
  {
   "cell_type": "code",
   "execution_count": 19,
   "metadata": {},
   "outputs": [
    {
     "data": {
      "text/plain": [
       "<matplotlib.axes._subplots.AxesSubplot at 0x144b0755130>"
      ]
     },
     "execution_count": 19,
     "metadata": {},
     "output_type": "execute_result"
    },
    {
     "data": {
      "image/png": "[encoded data removed]",
      "text/plain": [
       "<Figure size 432x288 with 1 Axes>"
      ]
     },
     "metadata": {
      "needs_background": "light"
     },
     "output_type": "display_data"
    }
   ],
   "source": [
    "sns.countplot(x = \"attributes\",data = df)\n",
    "\n",
    "#the given dataset is an imbalanced dataset since the count of each variable attributes column has a huge variance."
   ]
  },
  {
   "cell_type": "code",
   "execution_count": 20,
   "metadata": {},
   "outputs": [
    {
     "data": {
      "text/plain": [
       "(array([0, 1, 2, 3, 4, 5, 6, 7]), <a list of 8 Text major ticklabel objects>)"
      ]
     },
     "execution_count": 20,
     "metadata": {},
     "output_type": "execute_result"
    },
    {
     "data": {
      "image/png": "[encoded data removed]",
      "text/plain": [
       "<Figure size 360x360 with 1 Axes>"
      ]
     },
     "metadata": {
      "needs_background": "light"
     },
     "output_type": "display_data"
    }
   ],
   "source": [
    "sns.catplot(x = \"workclass\",y = \"capital_gain\",data=df)\n",
    "plt.xticks(\n",
    "    rotation=45, \n",
    "    horizontalalignment='right',\n",
    "    fontweight='light',\n",
    "    fontsize='x-large'  \n",
    ")"
   ]
  },
  {
   "cell_type": "code",
   "execution_count": 21,
   "metadata": {},
   "outputs": [
    {
     "data": {
      "text/plain": [
       "(array([0, 1, 2, 3, 4, 5, 6, 7]), <a list of 8 Text major ticklabel objects>)"
      ]
     },
     "execution_count": 21,
     "metadata": {},
     "output_type": "execute_result"
    },
    {
     "data": {
      "image/png": "[encoded data removed]",
      "text/plain": [
       "<Figure size 360x360 with 1 Axes>"
      ]
     },
     "metadata": {
      "needs_background": "light"
     },
     "output_type": "display_data"
    }
   ],
   "source": [
    "sns.catplot(x = \"workclass\",y = \"hours_per_week\",data=df)\n",
    "plt.xticks(\n",
    "    rotation=45, \n",
    "    horizontalalignment='right',\n",
    "    fontweight='light',\n",
    "    fontsize='x-large'  \n",
    ")"
   ]
  },
  {
   "cell_type": "code",
   "execution_count": 22,
   "metadata": {},
   "outputs": [
    {
     "data": {
      "text/plain": [
       "(array([0, 1, 2, 3, 4, 5, 6, 7]), <a list of 8 Text major ticklabel objects>)"
      ]
     },
     "execution_count": 22,
     "metadata": {},
     "output_type": "execute_result"
    },
    {
     "data": {
      "image/png": "[encoded data removed]",
      "text/plain": [
       "<Figure size 432x288 with 1 Axes>"
      ]
     },
     "metadata": {
      "needs_background": "light"
     },
     "output_type": "display_data"
    }
   ],
   "source": [
    "sns.countplot(x = \"workclass\",data=df,hue = \"education\" )\n",
    "plt.xticks(\n",
    "    rotation=45, \n",
    "    horizontalalignment='right',\n",
    "    fontweight='light',\n",
    "    fontsize='x-large'  \n",
    ")"
   ]
  },
  {
   "cell_type": "code",
   "execution_count": 23,
   "metadata": {},
   "outputs": [
    {
     "data": {
      "text/plain": [
       "(array([0, 1, 2, 3, 4, 5, 6, 7, 8, 9]),\n",
       " <a list of 10 Text major ticklabel objects>)"
      ]
     },
     "execution_count": 23,
     "metadata": {},
     "output_type": "execute_result"
    },
    {
     "data": {
      "image/png": "[encoded data removed]",
      "text/plain": [
       "<Figure size 432x288 with 1 Axes>"
      ]
     },
     "metadata": {
      "needs_background": "light"
     },
     "output_type": "display_data"
    }
   ],
   "source": [
    "sns.countplot(x = \"education\",data=df,hue = \"marital_status\" )\n",
    "plt.xticks(\n",
    "    rotation=45, \n",
    "    horizontalalignment='right',\n",
    "    fontweight='light',\n",
    "    fontsize='x-large'  \n",
    ")"
   ]
  },
  {
   "cell_type": "code",
   "execution_count": 24,
   "metadata": {},
   "outputs": [
    {
     "data": {
      "text/plain": [
       "(array([ 0,  1,  2,  3,  4,  5,  6,  7,  8,  9, 10, 11, 12, 13, 14, 15, 16,\n",
       "        17, 18, 19, 20, 21, 22, 23, 24, 25, 26, 27, 28, 29, 30, 31, 32, 33,\n",
       "        34, 35, 36, 37, 38, 39, 40]),\n",
       " <a list of 41 Text major ticklabel objects>)"
      ]
     },
     "execution_count": 24,
     "metadata": {},
     "output_type": "execute_result"
    },
    {
     "data": {
      "image/png": "[encoded data removed]",
      "text/plain": [
       "<Figure size 360x360 with 1 Axes>"
      ]
     },
     "metadata": {
      "needs_background": "light"
     },
     "output_type": "display_data"
    }
   ],
   "source": [
    "sns.catplot(x = \"native_country\",y = \"hours_per_week\",data=df)\n",
    "plt.xticks(\n",
    "    rotation=45, \n",
    "    horizontalalignment='right',\n",
    "    fontweight='light',\n",
    "    fontsize='x-large'  \n",
    ")"
   ]
  },
  {
   "cell_type": "code",
   "execution_count": 25,
   "metadata": {},
   "outputs": [
    {
     "data": {
      "text/plain": [
       "<matplotlib.axes._subplots.AxesSubplot at 0x144b2fbfcd0>"
      ]
     },
     "execution_count": 25,
     "metadata": {},
     "output_type": "execute_result"
    },
    {
     "data": {
      "image/png": "[encoded data removed]",
      "text/plain": [
       "<Figure size 1440x720 with 2 Axes>"
      ]
     },
     "metadata": {
      "needs_background": "light"
     },
     "output_type": "display_data"
    }
   ],
   "source": [
    "plt.figure(figsize=(20,10))\n",
    "sns.heatmap(data=df.corr().abs(),annot=True)"
   ]
  },
  {
   "cell_type": "code",
   "execution_count": 26,
   "metadata": {},
   "outputs": [],
   "source": [
    "#dividing the data into input and output\n",
    "x = df.drop(columns = [\"attributes\"])\n",
    "y = df[\"attributes\"]\n",
    "test_x = test.drop(columns = [\"attributes\"])\n",
    "test_y = test[\"attributes\"]"
   ]
  },
  {
   "cell_type": "code",
   "execution_count": 27,
   "metadata": {},
   "outputs": [],
   "source": [
    "num_cols = [\"age\",\"fnlwgt\",\"education_num\",\"capital_gain\",\"capital_loss\",\"hours_per_week\"]\n",
    "cat_cols = [\"workclass\",\"education\",\"marital_status\",\"occupation\",\"relationship\",\"race\",\"sex\",\"native_country\"]"
   ]
  },
  {
   "cell_type": "code",
   "execution_count": 28,
   "metadata": {},
   "outputs": [],
   "source": [
    "#converting the character variables into dummy values\n",
    "dumm = pd.get_dummies(x[cat_cols])\n",
    "dumm_test = pd.get_dummies(test_x[cat_cols])\n"
   ]
  },
  {
   "cell_type": "code",
   "execution_count": 29,
   "metadata": {},
   "outputs": [],
   "source": [
    "#scaling the data using MinMaxScaler\n",
    "scaler = MinMaxScaler()\n",
    "scaled_data=scaler.fit_transform(x[num_cols])\n",
    "scaled_data_test=scaler.fit_transform(test_x[num_cols])\n"
   ]
  },
  {
   "cell_type": "code",
   "execution_count": 30,
   "metadata": {},
   "outputs": [],
   "source": [
    "#converting the data into dataframes\n",
    "scaled_data = pd.DataFrame(scaled_data,columns= num_cols)\n",
    "scaled_data_test = pd.DataFrame(scaled_data_test,columns= num_cols)"
   ]
  },
  {
   "cell_type": "code",
   "execution_count": 31,
   "metadata": {},
   "outputs": [],
   "source": [
    "#removning the unwanted columns to avoin dummy variable trap\n",
    "dumm.drop(columns = [\"workclass_Never-worked\",\"education_Preschool\",\"marital_status_unmarried\",\"occupation_Armed-Forces\",\"relationship_Wife\",\"race_Other\",\"sex_Female\",\"native_country_Holand-Netherlands\"],inplace=True)\n",
    "dumm_test.drop(columns = [\"workclass_Never-worked\",\"education_Preschool\",\"marital_status_unmarried\",\"occupation_Armed-Forces\",\"relationship_Wife\",\"race_Other\",\"sex_Female\"],inplace=True)"
   ]
  },
  {
   "cell_type": "code",
   "execution_count": 32,
   "metadata": {},
   "outputs": [],
   "source": [
    "#Combning the scaled and dummy variable data\n",
    "x_inp = pd.concat([scaled_data,dumm],axis=1)\n",
    "x_inp_test = pd.concat([scaled_data_test,dumm_test],axis=1)"
   ]
  },
  {
   "cell_type": "code",
   "execution_count": 33,
   "metadata": {},
   "outputs": [],
   "source": [
    "#splitting the data into train and test\n",
    "x_train,x_test,y_train,y_test = train_test_split(x_inp,y,test_size = 0.25,random_state=355)"
   ]
  },
  {
   "cell_type": "code",
   "execution_count": 34,
   "metadata": {},
   "outputs": [],
   "source": [
    "X = pd.concat([x_train,y_train],axis = 1)"
   ]
  },
  {
   "cell_type": "code",
   "execution_count": 35,
   "metadata": {},
   "outputs": [],
   "source": [
    "#balancing the dataset using Random Over-Sampling method\n",
    "class_o = X[X.attributes==\"<=50K\"]\n",
    "class_1  = X[X.attributes==\">50K\"]"
   ]
  },
  {
   "cell_type": "code",
   "execution_count": 36,
   "metadata": {},
   "outputs": [],
   "source": [
    "# class count\n",
    "class_count_0, class_count_1 = X['attributes'].value_counts()"
   ]
  },
  {
   "cell_type": "code",
   "execution_count": 37,
   "metadata": {},
   "outputs": [],
   "source": [
    "class_1_over = class_1.sample(class_count_0,replace = True)"
   ]
  },
  {
   "cell_type": "code",
   "execution_count": 38,
   "metadata": {},
   "outputs": [
    {
     "data": {
      "text/plain": [
       "(18546, 87)"
      ]
     },
     "execution_count": 38,
     "metadata": {},
     "output_type": "execute_result"
    }
   ],
   "source": [
    "class_1_over.shape"
   ]
  },
  {
   "cell_type": "code",
   "execution_count": 39,
   "metadata": {},
   "outputs": [],
   "source": [
    "over_sampled = pd.concat([class_o,class_1_over])"
   ]
  },
  {
   "cell_type": "code",
   "execution_count": 40,
   "metadata": {},
   "outputs": [
    {
     "data": {
      "text/plain": [
       "<=50K    18546\n",
       ">50K     18546\n",
       "Name: attributes, dtype: int64"
      ]
     },
     "execution_count": 40,
     "metadata": {},
     "output_type": "execute_result"
    }
   ],
   "source": [
    "over_sampled[\"attributes\"].value_counts()"
   ]
  },
  {
   "cell_type": "code",
   "execution_count": 41,
   "metadata": {},
   "outputs": [],
   "source": [
    "over_sampled_x = over_sampled.drop(columns = [\"attributes\"])\n",
    "over_sampled_y = over_sampled[\"attributes\"]"
   ]
  },
  {
   "cell_type": "markdown",
   "metadata": {},
   "source": [
    "# Developing the model"
   ]
  },
  {
   "cell_type": "code",
   "execution_count": 42,
   "metadata": {},
   "outputs": [
    {
     "data": {
      "text/plain": [
       "XGBClassifier(base_score=0.5, booster='gbtree', colsample_bylevel=1,\n",
       "              colsample_bynode=1, colsample_bytree=1, gamma=0, gpu_id=-1,\n",
       "              importance_type='gain', interaction_constraints='',\n",
       "              learning_rate=0.300000012, max_delta_step=0, max_depth=6,\n",
       "              min_child_weight=1, missing=nan, monotone_constraints='()',\n",
       "              n_estimators=100, n_jobs=0, num_parallel_tree=1, random_state=0,\n",
       "              reg_alpha=0, reg_lambda=1, scale_pos_weight=1, subsample=1,\n",
       "              tree_method='exact', validate_parameters=1, verbosity=None)"
      ]
     },
     "execution_count": 42,
     "metadata": {},
     "output_type": "execute_result"
    }
   ],
   "source": [
    "# fit model no training data\n",
    "model = XGBClassifier(objective='binary:logistic')\n",
    "model.fit(over_sampled_x, over_sampled_y)"
   ]
  },
  {
   "cell_type": "code",
   "execution_count": 43,
   "metadata": {},
   "outputs": [
    {
     "data": {
      "text/plain": [
       "0.8825143325143325"
      ]
     },
     "execution_count": 43,
     "metadata": {},
     "output_type": "execute_result"
    }
   ],
   "source": [
    "y_pred = model.predict(x_train)\n",
    "predictions = [(value) for value in y_pred]\n",
    "accuracy = accuracy_score(y_train,predictions)\n",
    "accuracy"
   ]
  },
  {
   "cell_type": "code",
   "execution_count": 44,
   "metadata": {},
   "outputs": [
    {
     "data": {
      "text/plain": [
       "0.8257478041889319"
      ]
     },
     "execution_count": 44,
     "metadata": {},
     "output_type": "execute_result"
    }
   ],
   "source": [
    "y_pred = model.predict(x_inp_test)\n",
    "predictions = [(value) for value in y_pred]\n",
    "accuracy = accuracy_score(test_y,predictions)\n",
    "accuracy"
   ]
  },
  {
   "cell_type": "code",
   "execution_count": 45,
   "metadata": {},
   "outputs": [],
   "source": [
    "#Hyperparameter tuning using GridSearchCV\n",
    "param_grid={\n",
    "   \n",
    "    'learning_rate':[1,0.5,0.1,0.01,0.001],\n",
    "    'max_depth': [3,5,10,20],\n",
    "    'n_estimators':[10,50,100,200]\n",
    "    \n",
    "}"
   ]
  },
  {
   "cell_type": "code",
   "execution_count": 46,
   "metadata": {},
   "outputs": [],
   "source": [
    "grid= GridSearchCV(XGBClassifier(objective='binary:logistic'),param_grid, verbose=3)"
   ]
  },
  {
   "cell_type": "code",
   "execution_count": 47,
   "metadata": {},
   "outputs": [
    {
     "name": "stdout",
     "output_type": "stream",
     "text": [
      "Fitting 5 folds for each of 80 candidates, totalling 400 fits\n",
      "[CV] learning_rate=1, max_depth=3, n_estimators=10 ...................\n"
     ]
    },
    {
     "name": "stderr",
     "output_type": "stream",
     "text": [
      "[Parallel(n_jobs=1)]: Using backend SequentialBackend with 1 concurrent workers.\n"
     ]
    },
    {
     "name": "stdout",
     "output_type": "stream",
     "text": [
      "[CV]  learning_rate=1, max_depth=3, n_estimators=10, score=0.830, total=   1.0s\n",
      "[CV] learning_rate=1, max_depth=3, n_estimators=10 ...................\n"
     ]
    },
    {
     "name": "stderr",
     "output_type": "stream",
     "text": [
      "[Parallel(n_jobs=1)]: Done   1 out of   1 | elapsed:    0.9s remaining:    0.0s\n"
     ]
    },
    {
     "name": "stdout",
     "output_type": "stream",
     "text": [
      "[CV]  learning_rate=1, max_depth=3, n_estimators=10, score=0.835, total=   0.3s\n",
      "[CV] learning_rate=1, max_depth=3, n_estimators=10 ...................\n"
     ]
    },
    {
     "name": "stderr",
     "output_type": "stream",
     "text": [
      "[Parallel(n_jobs=1)]: Done   2 out of   2 | elapsed:    1.2s remaining:    0.0s\n"
     ]
    },
    {
     "name": "stdout",
     "output_type": "stream",
     "text": [
      "[CV]  learning_rate=1, max_depth=3, n_estimators=10, score=0.819, total=   0.3s\n",
      "[CV] learning_rate=1, max_depth=3, n_estimators=10 ...................\n",
      "[CV]  learning_rate=1, max_depth=3, n_estimators=10, score=0.820, total=   0.3s\n",
      "[CV] learning_rate=1, max_depth=3, n_estimators=10 ...................\n",
      "[CV]  learning_rate=1, max_depth=3, n_estimators=10, score=0.827, total=   0.3s\n",
      "[CV] learning_rate=1, max_depth=3, n_estimators=50 ...................\n",
      "[CV]  learning_rate=1, max_depth=3, n_estimators=50, score=0.854, total=   0.7s\n",
      "[CV] learning_rate=1, max_depth=3, n_estimators=50 ...................\n",
      "[CV]  learning_rate=1, max_depth=3, n_estimators=50, score=0.860, total=   0.7s\n",
      "[CV] learning_rate=1, max_depth=3, n_estimators=50 ...................\n",
      "[CV]  learning_rate=1, max_depth=3, n_estimators=50, score=0.852, total=   0.7s\n",
      "[CV] learning_rate=1, max_depth=3, n_estimators=50 ...................\n",
      "[CV]  learning_rate=1, max_depth=3, n_estimators=50, score=0.847, total=   0.7s\n",
      "[CV] learning_rate=1, max_depth=3, n_estimators=50 ...................\n",
      "[CV]  learning_rate=1, max_depth=3, n_estimators=50, score=0.848, total=   0.9s\n",
      "[CV] learning_rate=1, max_depth=3, n_estimators=100 ..................\n",
      "[CV]  learning_rate=1, max_depth=3, n_estimators=100, score=0.865, total=   1.5s\n",
      "[CV] learning_rate=1, max_depth=3, n_estimators=100 ..................\n",
      "[CV]  learning_rate=1, max_depth=3, n_estimators=100, score=0.866, total=   1.7s\n",
      "[CV] learning_rate=1, max_depth=3, n_estimators=100 ..................\n",
      "[CV]  learning_rate=1, max_depth=3, n_estimators=100, score=0.862, total=   1.4s\n",
      "[CV] learning_rate=1, max_depth=3, n_estimators=100 ..................\n",
      "[CV]  learning_rate=1, max_depth=3, n_estimators=100, score=0.861, total=   1.5s\n",
      "[CV] learning_rate=1, max_depth=3, n_estimators=100 ..................\n",
      "[CV]  learning_rate=1, max_depth=3, n_estimators=100, score=0.860, total=   1.4s\n",
      "[CV] learning_rate=1, max_depth=3, n_estimators=200 ..................\n",
      "[CV]  learning_rate=1, max_depth=3, n_estimators=200, score=0.877, total=   2.6s\n",
      "[CV] learning_rate=1, max_depth=3, n_estimators=200 ..................\n",
      "[CV]  learning_rate=1, max_depth=3, n_estimators=200, score=0.881, total=   2.7s\n",
      "[CV] learning_rate=1, max_depth=3, n_estimators=200 ..................\n",
      "[CV]  learning_rate=1, max_depth=3, n_estimators=200, score=0.878, total=   2.7s\n",
      "[CV] learning_rate=1, max_depth=3, n_estimators=200 ..................\n",
      "[CV]  learning_rate=1, max_depth=3, n_estimators=200, score=0.873, total=   2.8s\n",
      "[CV] learning_rate=1, max_depth=3, n_estimators=200 ..................\n",
      "[CV]  learning_rate=1, max_depth=3, n_estimators=200, score=0.876, total=   3.6s\n",
      "[CV] learning_rate=1, max_depth=5, n_estimators=10 ...................\n",
      "[CV]  learning_rate=1, max_depth=5, n_estimators=10, score=0.843, total=   0.6s\n",
      "[CV] learning_rate=1, max_depth=5, n_estimators=10 ...................\n",
      "[CV]  learning_rate=1, max_depth=5, n_estimators=10, score=0.850, total=   0.6s\n",
      "[CV] learning_rate=1, max_depth=5, n_estimators=10 ...................\n",
      "[CV]  learning_rate=1, max_depth=5, n_estimators=10, score=0.841, total=   0.5s\n",
      "[CV] learning_rate=1, max_depth=5, n_estimators=10 ...................\n",
      "[CV]  learning_rate=1, max_depth=5, n_estimators=10, score=0.845, total=   0.5s\n",
      "[CV] learning_rate=1, max_depth=5, n_estimators=10 ...................\n",
      "[CV]  learning_rate=1, max_depth=5, n_estimators=10, score=0.849, total=   0.5s\n",
      "[CV] learning_rate=1, max_depth=5, n_estimators=50 ...................\n",
      "[CV]  learning_rate=1, max_depth=5, n_estimators=50, score=0.872, total=   1.4s\n",
      "[CV] learning_rate=1, max_depth=5, n_estimators=50 ...................\n",
      "[CV]  learning_rate=1, max_depth=5, n_estimators=50, score=0.881, total=   1.5s\n",
      "[CV] learning_rate=1, max_depth=5, n_estimators=50 ...................\n",
      "[CV]  learning_rate=1, max_depth=5, n_estimators=50, score=0.870, total=   2.0s\n",
      "[CV] learning_rate=1, max_depth=5, n_estimators=50 ...................\n",
      "[CV]  learning_rate=1, max_depth=5, n_estimators=50, score=0.874, total=   1.7s\n",
      "[CV] learning_rate=1, max_depth=5, n_estimators=50 ...................\n",
      "[CV]  learning_rate=1, max_depth=5, n_estimators=50, score=0.876, total=   2.0s\n",
      "[CV] learning_rate=1, max_depth=5, n_estimators=100 ..................\n",
      "[CV]  learning_rate=1, max_depth=5, n_estimators=100, score=0.890, total=   3.8s\n",
      "[CV] learning_rate=1, max_depth=5, n_estimators=100 ..................\n",
      "[CV]  learning_rate=1, max_depth=5, n_estimators=100, score=0.900, total=   3.1s\n",
      "[CV] learning_rate=1, max_depth=5, n_estimators=100 ..................\n",
      "[CV]  learning_rate=1, max_depth=5, n_estimators=100, score=0.891, total=   2.7s\n",
      "[CV] learning_rate=1, max_depth=5, n_estimators=100 ..................\n",
      "[CV]  learning_rate=1, max_depth=5, n_estimators=100, score=0.896, total=   2.7s\n",
      "[CV] learning_rate=1, max_depth=5, n_estimators=100 ..................\n",
      "[CV]  learning_rate=1, max_depth=5, n_estimators=100, score=0.896, total=   2.8s\n",
      "[CV] learning_rate=1, max_depth=5, n_estimators=200 ..................\n",
      "[CV]  learning_rate=1, max_depth=5, n_estimators=200, score=0.911, total=   5.2s\n",
      "[CV] learning_rate=1, max_depth=5, n_estimators=200 ..................\n",
      "[CV]  learning_rate=1, max_depth=5, n_estimators=200, score=0.917, total=   5.3s\n",
      "[CV] learning_rate=1, max_depth=5, n_estimators=200 ..................\n",
      "[CV]  learning_rate=1, max_depth=5, n_estimators=200, score=0.913, total=   5.9s\n",
      "[CV] learning_rate=1, max_depth=5, n_estimators=200 ..................\n",
      "[CV]  learning_rate=1, max_depth=5, n_estimators=200, score=0.913, total=   5.4s\n",
      "[CV] learning_rate=1, max_depth=5, n_estimators=200 ..................\n",
      "[CV]  learning_rate=1, max_depth=5, n_estimators=200, score=0.917, total=   6.6s\n",
      "[CV] learning_rate=1, max_depth=10, n_estimators=10 ..................\n",
      "[CV]  learning_rate=1, max_depth=10, n_estimators=10, score=0.873, total=   0.7s\n",
      "[CV] learning_rate=1, max_depth=10, n_estimators=10 ..................\n",
      "[CV]  learning_rate=1, max_depth=10, n_estimators=10, score=0.884, total=   0.7s\n",
      "[CV] learning_rate=1, max_depth=10, n_estimators=10 ..................\n",
      "[CV]  learning_rate=1, max_depth=10, n_estimators=10, score=0.879, total=   0.7s\n",
      "[CV] learning_rate=1, max_depth=10, n_estimators=10 ..................\n",
      "[CV]  learning_rate=1, max_depth=10, n_estimators=10, score=0.876, total=   0.7s\n",
      "[CV] learning_rate=1, max_depth=10, n_estimators=10 ..................\n",
      "[CV]  learning_rate=1, max_depth=10, n_estimators=10, score=0.874, total=   0.7s\n",
      "[CV] learning_rate=1, max_depth=10, n_estimators=50 ..................\n",
      "[CV]  learning_rate=1, max_depth=10, n_estimators=50, score=0.917, total=   3.2s\n",
      "[CV] learning_rate=1, max_depth=10, n_estimators=50 ..................\n",
      "[CV]  learning_rate=1, max_depth=10, n_estimators=50, score=0.930, total=   2.8s\n",
      "[CV] learning_rate=1, max_depth=10, n_estimators=50 ..................\n",
      "[CV]  learning_rate=1, max_depth=10, n_estimators=50, score=0.923, total=   2.9s\n",
      "[CV] learning_rate=1, max_depth=10, n_estimators=50 ..................\n",
      "[CV]  learning_rate=1, max_depth=10, n_estimators=50, score=0.925, total=   3.0s\n",
      "[CV] learning_rate=1, max_depth=10, n_estimators=50 ..................\n",
      "[CV]  learning_rate=1, max_depth=10, n_estimators=50, score=0.922, total=   2.8s\n",
      "[CV] learning_rate=1, max_depth=10, n_estimators=100 .................\n",
      "[CV]  learning_rate=1, max_depth=10, n_estimators=100, score=0.928, total=   6.1s\n",
      "[CV] learning_rate=1, max_depth=10, n_estimators=100 .................\n",
      "[CV]  learning_rate=1, max_depth=10, n_estimators=100, score=0.938, total=   5.6s\n",
      "[CV] learning_rate=1, max_depth=10, n_estimators=100 .................\n",
      "[CV]  learning_rate=1, max_depth=10, n_estimators=100, score=0.929, total=   6.0s\n",
      "[CV] learning_rate=1, max_depth=10, n_estimators=100 .................\n",
      "[CV]  learning_rate=1, max_depth=10, n_estimators=100, score=0.931, total=   5.3s\n",
      "[CV] learning_rate=1, max_depth=10, n_estimators=100 .................\n",
      "[CV]  learning_rate=1, max_depth=10, n_estimators=100, score=0.930, total=   5.5s\n",
      "[CV] learning_rate=1, max_depth=10, n_estimators=200 .................\n",
      "[CV]  learning_rate=1, max_depth=10, n_estimators=200, score=0.928, total=  10.3s\n",
      "[CV] learning_rate=1, max_depth=10, n_estimators=200 .................\n",
      "[CV]  learning_rate=1, max_depth=10, n_estimators=200, score=0.937, total=  10.0s\n",
      "[CV] learning_rate=1, max_depth=10, n_estimators=200 .................\n",
      "[CV]  learning_rate=1, max_depth=10, n_estimators=200, score=0.933, total=  10.5s\n",
      "[CV] learning_rate=1, max_depth=10, n_estimators=200 .................\n",
      "[CV]  learning_rate=1, max_depth=10, n_estimators=200, score=0.931, total=   9.9s\n",
      "[CV] learning_rate=1, max_depth=10, n_estimators=200 .................\n",
      "[CV]  learning_rate=1, max_depth=10, n_estimators=200, score=0.932, total=  11.2s\n",
      "[CV] learning_rate=1, max_depth=20, n_estimators=10 ..................\n",
      "[CV]  learning_rate=1, max_depth=20, n_estimators=10, score=0.915, total=   1.3s\n",
      "[CV] learning_rate=1, max_depth=20, n_estimators=10 ..................\n",
      "[CV]  learning_rate=1, max_depth=20, n_estimators=10, score=0.927, total=   1.4s\n",
      "[CV] learning_rate=1, max_depth=20, n_estimators=10 ..................\n",
      "[CV]  learning_rate=1, max_depth=20, n_estimators=10, score=0.921, total=   1.5s\n",
      "[CV] learning_rate=1, max_depth=20, n_estimators=10 ..................\n",
      "[CV]  learning_rate=1, max_depth=20, n_estimators=10, score=0.925, total=   1.6s\n",
      "[CV] learning_rate=1, max_depth=20, n_estimators=10 ..................\n",
      "[CV]  learning_rate=1, max_depth=20, n_estimators=10, score=0.920, total=   1.6s\n",
      "[CV] learning_rate=1, max_depth=20, n_estimators=50 ..................\n",
      "[CV]  learning_rate=1, max_depth=20, n_estimators=50, score=0.930, total=   5.9s\n",
      "[CV] learning_rate=1, max_depth=20, n_estimators=50 ..................\n",
      "[CV]  learning_rate=1, max_depth=20, n_estimators=50, score=0.938, total=   5.3s\n",
      "[CV] learning_rate=1, max_depth=20, n_estimators=50 ..................\n",
      "[CV]  learning_rate=1, max_depth=20, n_estimators=50, score=0.932, total=   5.4s\n",
      "[CV] learning_rate=1, max_depth=20, n_estimators=50 ..................\n",
      "[CV]  learning_rate=1, max_depth=20, n_estimators=50, score=0.936, total=   5.3s\n",
      "[CV] learning_rate=1, max_depth=20, n_estimators=50 ..................\n",
      "[CV]  learning_rate=1, max_depth=20, n_estimators=50, score=0.932, total=   5.5s\n",
      "[CV] learning_rate=1, max_depth=20, n_estimators=100 .................\n",
      "[CV]  learning_rate=1, max_depth=20, n_estimators=100, score=0.931, total=  10.1s\n",
      "[CV] learning_rate=1, max_depth=20, n_estimators=100 .................\n",
      "[CV]  learning_rate=1, max_depth=20, n_estimators=100, score=0.940, total=  10.7s\n",
      "[CV] learning_rate=1, max_depth=20, n_estimators=100 .................\n",
      "[CV]  learning_rate=1, max_depth=20, n_estimators=100, score=0.931, total=   9.9s\n",
      "[CV] learning_rate=1, max_depth=20, n_estimators=100 .................\n",
      "[CV]  learning_rate=1, max_depth=20, n_estimators=100, score=0.938, total=  10.6s\n",
      "[CV] learning_rate=1, max_depth=20, n_estimators=100 .................\n",
      "[CV]  learning_rate=1, max_depth=20, n_estimators=100, score=0.934, total=  10.0s\n",
      "[CV] learning_rate=1, max_depth=20, n_estimators=200 .................\n",
      "[CV]  learning_rate=1, max_depth=20, n_estimators=200, score=0.929, total=  19.3s\n",
      "[CV] learning_rate=1, max_depth=20, n_estimators=200 .................\n",
      "[CV]  learning_rate=1, max_depth=20, n_estimators=200, score=0.940, total=  19.7s\n",
      "[CV] learning_rate=1, max_depth=20, n_estimators=200 .................\n",
      "[CV]  learning_rate=1, max_depth=20, n_estimators=200, score=0.931, total=  19.5s\n",
      "[CV] learning_rate=1, max_depth=20, n_estimators=200 .................\n",
      "[CV]  learning_rate=1, max_depth=20, n_estimators=200, score=0.938, total=  19.5s\n",
      "[CV] learning_rate=1, max_depth=20, n_estimators=200 .................\n",
      "[CV]  learning_rate=1, max_depth=20, n_estimators=200, score=0.934, total=  20.9s\n",
      "[CV] learning_rate=0.5, max_depth=3, n_estimators=10 .................\n",
      "[CV]  learning_rate=0.5, max_depth=3, n_estimators=10, score=0.819, total=   0.3s\n",
      "[CV] learning_rate=0.5, max_depth=3, n_estimators=10 .................\n",
      "[CV]  learning_rate=0.5, max_depth=3, n_estimators=10, score=0.821, total=   0.4s\n",
      "[CV] learning_rate=0.5, max_depth=3, n_estimators=10 .................\n",
      "[CV]  learning_rate=0.5, max_depth=3, n_estimators=10, score=0.817, total=   0.4s\n",
      "[CV] learning_rate=0.5, max_depth=3, n_estimators=10 .................\n",
      "[CV]  learning_rate=0.5, max_depth=3, n_estimators=10, score=0.814, total=   0.4s\n",
      "[CV] learning_rate=0.5, max_depth=3, n_estimators=10 .................\n",
      "[CV]  learning_rate=0.5, max_depth=3, n_estimators=10, score=0.818, total=   0.4s\n",
      "[CV] learning_rate=0.5, max_depth=3, n_estimators=50 .................\n",
      "[CV]  learning_rate=0.5, max_depth=3, n_estimators=50, score=0.846, total=   1.0s\n",
      "[CV] learning_rate=0.5, max_depth=3, n_estimators=50 .................\n",
      "[CV]  learning_rate=0.5, max_depth=3, n_estimators=50, score=0.850, total=   1.0s\n",
      "[CV] learning_rate=0.5, max_depth=3, n_estimators=50 .................\n",
      "[CV]  learning_rate=0.5, max_depth=3, n_estimators=50, score=0.848, total=   1.0s\n",
      "[CV] learning_rate=0.5, max_depth=3, n_estimators=50 .................\n",
      "[CV]  learning_rate=0.5, max_depth=3, n_estimators=50, score=0.846, total=   1.0s\n",
      "[CV] learning_rate=0.5, max_depth=3, n_estimators=50 .................\n",
      "[CV]  learning_rate=0.5, max_depth=3, n_estimators=50, score=0.850, total=   1.0s\n",
      "[CV] learning_rate=0.5, max_depth=3, n_estimators=100 ................\n",
      "[CV]  learning_rate=0.5, max_depth=3, n_estimators=100, score=0.856, total=   1.8s\n",
      "[CV] learning_rate=0.5, max_depth=3, n_estimators=100 ................\n",
      "[CV]  learning_rate=0.5, max_depth=3, n_estimators=100, score=0.862, total=   1.8s\n",
      "[CV] learning_rate=0.5, max_depth=3, n_estimators=100 ................\n",
      "[CV]  learning_rate=0.5, max_depth=3, n_estimators=100, score=0.851, total=   1.9s\n",
      "[CV] learning_rate=0.5, max_depth=3, n_estimators=100 ................\n",
      "[CV]  learning_rate=0.5, max_depth=3, n_estimators=100, score=0.855, total=   1.8s\n",
      "[CV] learning_rate=0.5, max_depth=3, n_estimators=100 ................\n",
      "[CV]  learning_rate=0.5, max_depth=3, n_estimators=100, score=0.856, total=   1.8s\n",
      "[CV] learning_rate=0.5, max_depth=3, n_estimators=200 ................\n",
      "[CV]  learning_rate=0.5, max_depth=3, n_estimators=200, score=0.870, total=   3.4s\n",
      "[CV] learning_rate=0.5, max_depth=3, n_estimators=200 ................\n",
      "[CV]  learning_rate=0.5, max_depth=3, n_estimators=200, score=0.868, total=   3.4s\n",
      "[CV] learning_rate=0.5, max_depth=3, n_estimators=200 ................\n",
      "[CV]  learning_rate=0.5, max_depth=3, n_estimators=200, score=0.865, total=   3.7s\n",
      "[CV] learning_rate=0.5, max_depth=3, n_estimators=200 ................\n",
      "[CV]  learning_rate=0.5, max_depth=3, n_estimators=200, score=0.864, total=   3.3s\n",
      "[CV] learning_rate=0.5, max_depth=3, n_estimators=200 ................\n",
      "[CV]  learning_rate=0.5, max_depth=3, n_estimators=200, score=0.868, total=   3.3s\n",
      "[CV] learning_rate=0.5, max_depth=5, n_estimators=10 .................\n",
      "[CV]  learning_rate=0.5, max_depth=5, n_estimators=10, score=0.831, total=   0.5s\n",
      "[CV] learning_rate=0.5, max_depth=5, n_estimators=10 .................\n",
      "[CV]  learning_rate=0.5, max_depth=5, n_estimators=10, score=0.840, total=   0.5s\n",
      "[CV] learning_rate=0.5, max_depth=5, n_estimators=10 .................\n",
      "[CV]  learning_rate=0.5, max_depth=5, n_estimators=10, score=0.832, total=   0.5s\n",
      "[CV] learning_rate=0.5, max_depth=5, n_estimators=10 .................\n",
      "[CV]  learning_rate=0.5, max_depth=5, n_estimators=10, score=0.834, total=   0.5s\n",
      "[CV] learning_rate=0.5, max_depth=5, n_estimators=10 .................\n",
      "[CV]  learning_rate=0.5, max_depth=5, n_estimators=10, score=0.838, total=   0.5s\n",
      "[CV] learning_rate=0.5, max_depth=5, n_estimators=50 .................\n",
      "[CV]  learning_rate=0.5, max_depth=5, n_estimators=50, score=0.863, total=   1.6s\n",
      "[CV] learning_rate=0.5, max_depth=5, n_estimators=50 .................\n",
      "[CV]  learning_rate=0.5, max_depth=5, n_estimators=50, score=0.867, total=   1.4s\n",
      "[CV] learning_rate=0.5, max_depth=5, n_estimators=50 .................\n",
      "[CV]  learning_rate=0.5, max_depth=5, n_estimators=50, score=0.865, total=   1.4s\n",
      "[CV] learning_rate=0.5, max_depth=5, n_estimators=50 .................\n",
      "[CV]  learning_rate=0.5, max_depth=5, n_estimators=50, score=0.867, total=   1.4s\n",
      "[CV] learning_rate=0.5, max_depth=5, n_estimators=50 .................\n",
      "[CV]  learning_rate=0.5, max_depth=5, n_estimators=50, score=0.866, total=   1.4s\n",
      "[CV] learning_rate=0.5, max_depth=5, n_estimators=100 ................\n",
      "[CV]  learning_rate=0.5, max_depth=5, n_estimators=100, score=0.879, total=   2.6s\n",
      "[CV] learning_rate=0.5, max_depth=5, n_estimators=100 ................\n",
      "[CV]  learning_rate=0.5, max_depth=5, n_estimators=100, score=0.881, total=   2.9s\n",
      "[CV] learning_rate=0.5, max_depth=5, n_estimators=100 ................\n",
      "[CV]  learning_rate=0.5, max_depth=5, n_estimators=100, score=0.876, total=   2.6s\n",
      "[CV] learning_rate=0.5, max_depth=5, n_estimators=100 ................\n",
      "[CV]  learning_rate=0.5, max_depth=5, n_estimators=100, score=0.879, total=   2.7s\n",
      "[CV] learning_rate=0.5, max_depth=5, n_estimators=100 ................\n",
      "[CV]  learning_rate=0.5, max_depth=5, n_estimators=100, score=0.879, total=   2.6s\n",
      "[CV] learning_rate=0.5, max_depth=5, n_estimators=200 ................\n",
      "[CV]  learning_rate=0.5, max_depth=5, n_estimators=200, score=0.897, total=   5.2s\n",
      "[CV] learning_rate=0.5, max_depth=5, n_estimators=200 ................\n",
      "[CV]  learning_rate=0.5, max_depth=5, n_estimators=200, score=0.906, total=   5.1s\n",
      "[CV] learning_rate=0.5, max_depth=5, n_estimators=200 ................\n",
      "[CV]  learning_rate=0.5, max_depth=5, n_estimators=200, score=0.896, total=   5.2s\n",
      "[CV] learning_rate=0.5, max_depth=5, n_estimators=200 ................\n",
      "[CV]  learning_rate=0.5, max_depth=5, n_estimators=200, score=0.896, total=   5.2s\n",
      "[CV] learning_rate=0.5, max_depth=5, n_estimators=200 ................\n",
      "[CV]  learning_rate=0.5, max_depth=5, n_estimators=200, score=0.896, total=   5.1s\n",
      "[CV] learning_rate=0.5, max_depth=10, n_estimators=10 ................\n",
      "[CV]  learning_rate=0.5, max_depth=10, n_estimators=10, score=0.871, total=   0.7s\n",
      "[CV] learning_rate=0.5, max_depth=10, n_estimators=10 ................\n",
      "[CV]  learning_rate=0.5, max_depth=10, n_estimators=10, score=0.876, total=   0.7s\n",
      "[CV] learning_rate=0.5, max_depth=10, n_estimators=10 ................\n",
      "[CV]  learning_rate=0.5, max_depth=10, n_estimators=10, score=0.863, total=   0.7s\n",
      "[CV] learning_rate=0.5, max_depth=10, n_estimators=10 ................\n",
      "[CV]  learning_rate=0.5, max_depth=10, n_estimators=10, score=0.871, total=   0.7s\n",
      "[CV] learning_rate=0.5, max_depth=10, n_estimators=10 ................\n",
      "[CV]  learning_rate=0.5, max_depth=10, n_estimators=10, score=0.868, total=   0.7s\n",
      "[CV] learning_rate=0.5, max_depth=10, n_estimators=50 ................\n",
      "[CV]  learning_rate=0.5, max_depth=10, n_estimators=50, score=0.905, total=   2.8s\n",
      "[CV] learning_rate=0.5, max_depth=10, n_estimators=50 ................\n",
      "[CV]  learning_rate=0.5, max_depth=10, n_estimators=50, score=0.910, total=   2.6s\n",
      "[CV] learning_rate=0.5, max_depth=10, n_estimators=50 ................\n",
      "[CV]  learning_rate=0.5, max_depth=10, n_estimators=50, score=0.907, total=   2.6s\n",
      "[CV] learning_rate=0.5, max_depth=10, n_estimators=50 ................\n",
      "[CV]  learning_rate=0.5, max_depth=10, n_estimators=50, score=0.906, total=   2.6s\n",
      "[CV] learning_rate=0.5, max_depth=10, n_estimators=50 ................\n",
      "[CV]  learning_rate=0.5, max_depth=10, n_estimators=50, score=0.908, total=   2.6s\n",
      "[CV] learning_rate=0.5, max_depth=10, n_estimators=100 ...............\n",
      "[CV]  learning_rate=0.5, max_depth=10, n_estimators=100, score=0.922, total=   5.5s\n",
      "[CV] learning_rate=0.5, max_depth=10, n_estimators=100 ...............\n",
      "[CV]  learning_rate=0.5, max_depth=10, n_estimators=100, score=0.927, total=   5.0s\n",
      "[CV] learning_rate=0.5, max_depth=10, n_estimators=100 ...............\n",
      "[CV]  learning_rate=0.5, max_depth=10, n_estimators=100, score=0.922, total=   5.0s\n",
      "[CV] learning_rate=0.5, max_depth=10, n_estimators=100 ...............\n",
      "[CV]  learning_rate=0.5, max_depth=10, n_estimators=100, score=0.926, total=   5.1s\n",
      "[CV] learning_rate=0.5, max_depth=10, n_estimators=100 ...............\n",
      "[CV]  learning_rate=0.5, max_depth=10, n_estimators=100, score=0.923, total=   4.9s\n",
      "[CV] learning_rate=0.5, max_depth=10, n_estimators=200 ...............\n",
      "[CV]  learning_rate=0.5, max_depth=10, n_estimators=200, score=0.928, total=  10.5s\n",
      "[CV] learning_rate=0.5, max_depth=10, n_estimators=200 ...............\n",
      "[CV]  learning_rate=0.5, max_depth=10, n_estimators=200, score=0.939, total=  11.0s\n",
      "[CV] learning_rate=0.5, max_depth=10, n_estimators=200 ...............\n",
      "[CV]  learning_rate=0.5, max_depth=10, n_estimators=200, score=0.932, total=   9.9s\n",
      "[CV] learning_rate=0.5, max_depth=10, n_estimators=200 ...............\n",
      "[CV]  learning_rate=0.5, max_depth=10, n_estimators=200, score=0.935, total=  10.4s\n",
      "[CV] learning_rate=0.5, max_depth=10, n_estimators=200 ...............\n",
      "[CV]  learning_rate=0.5, max_depth=10, n_estimators=200, score=0.934, total=   9.7s\n",
      "[CV] learning_rate=0.5, max_depth=20, n_estimators=10 ................\n",
      "[CV]  learning_rate=0.5, max_depth=20, n_estimators=10, score=0.913, total=   1.5s\n",
      "[CV] learning_rate=0.5, max_depth=20, n_estimators=10 ................\n",
      "[CV]  learning_rate=0.5, max_depth=20, n_estimators=10, score=0.919, total=   1.3s\n",
      "[CV] learning_rate=0.5, max_depth=20, n_estimators=10 ................\n",
      "[CV]  learning_rate=0.5, max_depth=20, n_estimators=10, score=0.911, total=   1.3s\n",
      "[CV] learning_rate=0.5, max_depth=20, n_estimators=10 ................\n",
      "[CV]  learning_rate=0.5, max_depth=20, n_estimators=10, score=0.918, total=   1.3s\n",
      "[CV] learning_rate=0.5, max_depth=20, n_estimators=10 ................\n",
      "[CV]  learning_rate=0.5, max_depth=20, n_estimators=10, score=0.910, total=   1.3s\n",
      "[CV] learning_rate=0.5, max_depth=20, n_estimators=50 ................\n",
      "[CV]  learning_rate=0.5, max_depth=20, n_estimators=50, score=0.928, total=   5.5s\n",
      "[CV] learning_rate=0.5, max_depth=20, n_estimators=50 ................\n",
      "[CV]  learning_rate=0.5, max_depth=20, n_estimators=50, score=0.937, total=   5.3s\n",
      "[CV] learning_rate=0.5, max_depth=20, n_estimators=50 ................\n",
      "[CV]  learning_rate=0.5, max_depth=20, n_estimators=50, score=0.930, total=   5.5s\n",
      "[CV] learning_rate=0.5, max_depth=20, n_estimators=50 ................\n",
      "[CV]  learning_rate=0.5, max_depth=20, n_estimators=50, score=0.937, total=   5.3s\n",
      "[CV] learning_rate=0.5, max_depth=20, n_estimators=50 ................\n",
      "[CV]  learning_rate=0.5, max_depth=20, n_estimators=50, score=0.929, total=   5.5s\n",
      "[CV] learning_rate=0.5, max_depth=20, n_estimators=100 ...............\n",
      "[CV]  learning_rate=0.5, max_depth=20, n_estimators=100, score=0.930, total=  10.3s\n",
      "[CV] learning_rate=0.5, max_depth=20, n_estimators=100 ...............\n",
      "[CV]  learning_rate=0.5, max_depth=20, n_estimators=100, score=0.940, total=  10.9s\n",
      "[CV] learning_rate=0.5, max_depth=20, n_estimators=100 ...............\n",
      "[CV]  learning_rate=0.5, max_depth=20, n_estimators=100, score=0.932, total=  10.2s\n",
      "[CV] learning_rate=0.5, max_depth=20, n_estimators=100 ...............\n",
      "[CV]  learning_rate=0.5, max_depth=20, n_estimators=100, score=0.938, total=  10.9s\n",
      "[CV] learning_rate=0.5, max_depth=20, n_estimators=100 ...............\n",
      "[CV]  learning_rate=0.5, max_depth=20, n_estimators=100, score=0.933, total=  10.2s\n",
      "[CV] learning_rate=0.5, max_depth=20, n_estimators=200 ...............\n",
      "[CV]  learning_rate=0.5, max_depth=20, n_estimators=200, score=0.932, total=  20.7s\n",
      "[CV] learning_rate=0.5, max_depth=20, n_estimators=200 ...............\n",
      "[CV]  learning_rate=0.5, max_depth=20, n_estimators=200, score=0.941, total=  20.8s\n",
      "[CV] learning_rate=0.5, max_depth=20, n_estimators=200 ...............\n",
      "[CV]  learning_rate=0.5, max_depth=20, n_estimators=200, score=0.933, total=  21.1s\n",
      "[CV] learning_rate=0.5, max_depth=20, n_estimators=200 ...............\n",
      "[CV]  learning_rate=0.5, max_depth=20, n_estimators=200, score=0.938, total=  20.7s\n",
      "[CV] learning_rate=0.5, max_depth=20, n_estimators=200 ...............\n",
      "[CV]  learning_rate=0.5, max_depth=20, n_estimators=200, score=0.936, total=  20.6s\n",
      "[CV] learning_rate=0.1, max_depth=3, n_estimators=10 .................\n",
      "[CV]  learning_rate=0.1, max_depth=3, n_estimators=10, score=0.791, total=   0.3s\n",
      "[CV] learning_rate=0.1, max_depth=3, n_estimators=10 .................\n",
      "[CV]  learning_rate=0.1, max_depth=3, n_estimators=10, score=0.790, total=   0.4s\n",
      "[CV] learning_rate=0.1, max_depth=3, n_estimators=10 .................\n",
      "[CV]  learning_rate=0.1, max_depth=3, n_estimators=10, score=0.793, total=   0.4s\n",
      "[CV] learning_rate=0.1, max_depth=3, n_estimators=10 .................\n",
      "[CV]  learning_rate=0.1, max_depth=3, n_estimators=10, score=0.779, total=   0.4s\n",
      "[CV] learning_rate=0.1, max_depth=3, n_estimators=10 .................\n",
      "[CV]  learning_rate=0.1, max_depth=3, n_estimators=10, score=0.798, total=   0.4s\n",
      "[CV] learning_rate=0.1, max_depth=3, n_estimators=50 .................\n",
      "[CV]  learning_rate=0.1, max_depth=3, n_estimators=50, score=0.815, total=   1.0s\n",
      "[CV] learning_rate=0.1, max_depth=3, n_estimators=50 .................\n",
      "[CV]  learning_rate=0.1, max_depth=3, n_estimators=50, score=0.822, total=   1.0s\n",
      "[CV] learning_rate=0.1, max_depth=3, n_estimators=50 .................\n",
      "[CV]  learning_rate=0.1, max_depth=3, n_estimators=50, score=0.816, total=   1.0s\n",
      "[CV] learning_rate=0.1, max_depth=3, n_estimators=50 .................\n",
      "[CV]  learning_rate=0.1, max_depth=3, n_estimators=50, score=0.812, total=   1.0s\n",
      "[CV] learning_rate=0.1, max_depth=3, n_estimators=50 .................\n",
      "[CV]  learning_rate=0.1, max_depth=3, n_estimators=50, score=0.822, total=   1.0s\n",
      "[CV] learning_rate=0.1, max_depth=3, n_estimators=100 ................\n",
      "[CV]  learning_rate=0.1, max_depth=3, n_estimators=100, score=0.829, total=   1.8s\n",
      "[CV] learning_rate=0.1, max_depth=3, n_estimators=100 ................\n",
      "[CV]  learning_rate=0.1, max_depth=3, n_estimators=100, score=0.837, total=   2.1s\n",
      "[CV] learning_rate=0.1, max_depth=3, n_estimators=100 ................\n",
      "[CV]  learning_rate=0.1, max_depth=3, n_estimators=100, score=0.831, total=   1.8s\n",
      "[CV] learning_rate=0.1, max_depth=3, n_estimators=100 ................\n",
      "[CV]  learning_rate=0.1, max_depth=3, n_estimators=100, score=0.827, total=   1.8s\n",
      "[CV] learning_rate=0.1, max_depth=3, n_estimators=100 ................\n",
      "[CV]  learning_rate=0.1, max_depth=3, n_estimators=100, score=0.833, total=   1.8s\n",
      "[CV] learning_rate=0.1, max_depth=3, n_estimators=200 ................\n",
      "[CV]  learning_rate=0.1, max_depth=3, n_estimators=200, score=0.846, total=   3.4s\n",
      "[CV] learning_rate=0.1, max_depth=3, n_estimators=200 ................\n",
      "[CV]  learning_rate=0.1, max_depth=3, n_estimators=200, score=0.850, total=   3.5s\n",
      "[CV] learning_rate=0.1, max_depth=3, n_estimators=200 ................\n",
      "[CV]  learning_rate=0.1, max_depth=3, n_estimators=200, score=0.845, total=   3.3s\n",
      "[CV] learning_rate=0.1, max_depth=3, n_estimators=200 ................\n",
      "[CV]  learning_rate=0.1, max_depth=3, n_estimators=200, score=0.843, total=   3.4s\n",
      "[CV] learning_rate=0.1, max_depth=3, n_estimators=200 ................\n",
      "[CV]  learning_rate=0.1, max_depth=3, n_estimators=200, score=0.846, total=   3.3s\n",
      "[CV] learning_rate=0.1, max_depth=5, n_estimators=10 .................\n",
      "[CV]  learning_rate=0.1, max_depth=5, n_estimators=10, score=0.811, total=   0.7s\n",
      "[CV] learning_rate=0.1, max_depth=5, n_estimators=10 .................\n",
      "[CV]  learning_rate=0.1, max_depth=5, n_estimators=10, score=0.817, total=   0.5s\n",
      "[CV] learning_rate=0.1, max_depth=5, n_estimators=10 .................\n",
      "[CV]  learning_rate=0.1, max_depth=5, n_estimators=10, score=0.813, total=   0.5s\n",
      "[CV] learning_rate=0.1, max_depth=5, n_estimators=10 .................\n",
      "[CV]  learning_rate=0.1, max_depth=5, n_estimators=10, score=0.811, total=   0.5s\n",
      "[CV] learning_rate=0.1, max_depth=5, n_estimators=10 .................\n",
      "[CV]  learning_rate=0.1, max_depth=5, n_estimators=10, score=0.815, total=   0.5s\n",
      "[CV] learning_rate=0.1, max_depth=5, n_estimators=50 .................\n",
      "[CV]  learning_rate=0.1, max_depth=5, n_estimators=50, score=0.837, total=   1.4s\n",
      "[CV] learning_rate=0.1, max_depth=5, n_estimators=50 .................\n",
      "[CV]  learning_rate=0.1, max_depth=5, n_estimators=50, score=0.841, total=   1.4s\n",
      "[CV] learning_rate=0.1, max_depth=5, n_estimators=50 .................\n",
      "[CV]  learning_rate=0.1, max_depth=5, n_estimators=50, score=0.839, total=   1.4s\n",
      "[CV] learning_rate=0.1, max_depth=5, n_estimators=50 .................\n",
      "[CV]  learning_rate=0.1, max_depth=5, n_estimators=50, score=0.839, total=   1.4s\n",
      "[CV] learning_rate=0.1, max_depth=5, n_estimators=50 .................\n",
      "[CV]  learning_rate=0.1, max_depth=5, n_estimators=50, score=0.837, total=   1.5s\n",
      "[CV] learning_rate=0.1, max_depth=5, n_estimators=100 ................\n",
      "[CV]  learning_rate=0.1, max_depth=5, n_estimators=100, score=0.853, total=   3.0s\n",
      "[CV] learning_rate=0.1, max_depth=5, n_estimators=100 ................\n",
      "[CV]  learning_rate=0.1, max_depth=5, n_estimators=100, score=0.859, total=   2.6s\n",
      "[CV] learning_rate=0.1, max_depth=5, n_estimators=100 ................\n",
      "[CV]  learning_rate=0.1, max_depth=5, n_estimators=100, score=0.850, total=   2.7s\n",
      "[CV] learning_rate=0.1, max_depth=5, n_estimators=100 ................\n",
      "[CV]  learning_rate=0.1, max_depth=5, n_estimators=100, score=0.852, total=   2.7s\n",
      "[CV] learning_rate=0.1, max_depth=5, n_estimators=100 ................\n",
      "[CV]  learning_rate=0.1, max_depth=5, n_estimators=100, score=0.849, total=   2.8s\n",
      "[CV] learning_rate=0.1, max_depth=5, n_estimators=200 ................\n",
      "[CV]  learning_rate=0.1, max_depth=5, n_estimators=200, score=0.864, total=   5.0s\n",
      "[CV] learning_rate=0.1, max_depth=5, n_estimators=200 ................\n",
      "[CV]  learning_rate=0.1, max_depth=5, n_estimators=200, score=0.868, total=   5.1s\n",
      "[CV] learning_rate=0.1, max_depth=5, n_estimators=200 ................\n",
      "[CV]  learning_rate=0.1, max_depth=5, n_estimators=200, score=0.861, total=   5.2s\n",
      "[CV] learning_rate=0.1, max_depth=5, n_estimators=200 ................\n",
      "[CV]  learning_rate=0.1, max_depth=5, n_estimators=200, score=0.862, total=   5.0s\n",
      "[CV] learning_rate=0.1, max_depth=5, n_estimators=200 ................\n",
      "[CV]  learning_rate=0.1, max_depth=5, n_estimators=200, score=0.861, total=   5.1s\n",
      "[CV] learning_rate=0.1, max_depth=10, n_estimators=10 ................\n",
      "[CV]  learning_rate=0.1, max_depth=10, n_estimators=10, score=0.850, total=   0.9s\n",
      "[CV] learning_rate=0.1, max_depth=10, n_estimators=10 ................\n",
      "[CV]  learning_rate=0.1, max_depth=10, n_estimators=10, score=0.860, total=   0.7s\n",
      "[CV] learning_rate=0.1, max_depth=10, n_estimators=10 ................\n",
      "[CV]  learning_rate=0.1, max_depth=10, n_estimators=10, score=0.846, total=   0.7s\n",
      "[CV] learning_rate=0.1, max_depth=10, n_estimators=10 ................\n",
      "[CV]  learning_rate=0.1, max_depth=10, n_estimators=10, score=0.851, total=   0.7s\n",
      "[CV] learning_rate=0.1, max_depth=10, n_estimators=10 ................\n",
      "[CV]  learning_rate=0.1, max_depth=10, n_estimators=10, score=0.850, total=   0.7s\n",
      "[CV] learning_rate=0.1, max_depth=10, n_estimators=50 ................\n",
      "[CV]  learning_rate=0.1, max_depth=10, n_estimators=50, score=0.869, total=   2.7s\n",
      "[CV] learning_rate=0.1, max_depth=10, n_estimators=50 ................\n",
      "[CV]  learning_rate=0.1, max_depth=10, n_estimators=50, score=0.881, total=   2.8s\n",
      "[CV] learning_rate=0.1, max_depth=10, n_estimators=50 ................\n",
      "[CV]  learning_rate=0.1, max_depth=10, n_estimators=50, score=0.869, total=   3.0s\n",
      "[CV] learning_rate=0.1, max_depth=10, n_estimators=50 ................\n",
      "[CV]  learning_rate=0.1, max_depth=10, n_estimators=50, score=0.874, total=   2.7s\n",
      "[CV] learning_rate=0.1, max_depth=10, n_estimators=50 ................\n",
      "[CV]  learning_rate=0.1, max_depth=10, n_estimators=50, score=0.872, total=   2.7s\n",
      "[CV] learning_rate=0.1, max_depth=10, n_estimators=100 ...............\n",
      "[CV]  learning_rate=0.1, max_depth=10, n_estimators=100, score=0.884, total=   5.3s\n",
      "[CV] learning_rate=0.1, max_depth=10, n_estimators=100 ...............\n",
      "[CV]  learning_rate=0.1, max_depth=10, n_estimators=100, score=0.894, total=   5.1s\n",
      "[CV] learning_rate=0.1, max_depth=10, n_estimators=100 ...............\n",
      "[CV]  learning_rate=0.1, max_depth=10, n_estimators=100, score=0.886, total=   5.1s\n",
      "[CV] learning_rate=0.1, max_depth=10, n_estimators=100 ...............\n",
      "[CV]  learning_rate=0.1, max_depth=10, n_estimators=100, score=0.885, total=   5.2s\n",
      "[CV] learning_rate=0.1, max_depth=10, n_estimators=100 ...............\n",
      "[CV]  learning_rate=0.1, max_depth=10, n_estimators=100, score=0.887, total=   5.1s\n",
      "[CV] learning_rate=0.1, max_depth=10, n_estimators=200 ...............\n",
      "[CV]  learning_rate=0.1, max_depth=10, n_estimators=200, score=0.900, total=  10.0s\n",
      "[CV] learning_rate=0.1, max_depth=10, n_estimators=200 ...............\n",
      "[CV]  learning_rate=0.1, max_depth=10, n_estimators=200, score=0.907, total=   9.9s\n",
      "[CV] learning_rate=0.1, max_depth=10, n_estimators=200 ...............\n",
      "[CV]  learning_rate=0.1, max_depth=10, n_estimators=200, score=0.900, total=  10.4s\n",
      "[CV] learning_rate=0.1, max_depth=10, n_estimators=200 ...............\n",
      "[CV]  learning_rate=0.1, max_depth=10, n_estimators=200, score=0.904, total=   9.7s\n",
      "[CV] learning_rate=0.1, max_depth=10, n_estimators=200 ...............\n",
      "[CV]  learning_rate=0.1, max_depth=10, n_estimators=200, score=0.901, total=  10.6s\n",
      "[CV] learning_rate=0.1, max_depth=20, n_estimators=10 ................\n",
      "[CV]  learning_rate=0.1, max_depth=20, n_estimators=10, score=0.893, total=   1.2s\n",
      "[CV] learning_rate=0.1, max_depth=20, n_estimators=10 ................\n",
      "[CV]  learning_rate=0.1, max_depth=20, n_estimators=10, score=0.899, total=   1.3s\n",
      "[CV] learning_rate=0.1, max_depth=20, n_estimators=10 ................\n",
      "[CV]  learning_rate=0.1, max_depth=20, n_estimators=10, score=0.885, total=   1.3s\n",
      "[CV] learning_rate=0.1, max_depth=20, n_estimators=10 ................\n",
      "[CV]  learning_rate=0.1, max_depth=20, n_estimators=10, score=0.891, total=   1.3s\n",
      "[CV] learning_rate=0.1, max_depth=20, n_estimators=10 ................\n",
      "[CV]  learning_rate=0.1, max_depth=20, n_estimators=10, score=0.892, total=   1.3s\n",
      "[CV] learning_rate=0.1, max_depth=20, n_estimators=50 ................\n",
      "[CV]  learning_rate=0.1, max_depth=20, n_estimators=50, score=0.918, total=   6.0s\n",
      "[CV] learning_rate=0.1, max_depth=20, n_estimators=50 ................\n",
      "[CV]  learning_rate=0.1, max_depth=20, n_estimators=50, score=0.926, total=   5.8s\n",
      "[CV] learning_rate=0.1, max_depth=20, n_estimators=50 ................\n",
      "[CV]  learning_rate=0.1, max_depth=20, n_estimators=50, score=0.916, total=   6.0s\n",
      "[CV] learning_rate=0.1, max_depth=20, n_estimators=50 ................\n",
      "[CV]  learning_rate=0.1, max_depth=20, n_estimators=50, score=0.920, total=   5.8s\n",
      "[CV] learning_rate=0.1, max_depth=20, n_estimators=50 ................\n",
      "[CV]  learning_rate=0.1, max_depth=20, n_estimators=50, score=0.914, total=   6.0s\n",
      "[CV] learning_rate=0.1, max_depth=20, n_estimators=100 ...............\n",
      "[CV]  learning_rate=0.1, max_depth=20, n_estimators=100, score=0.923, total=  11.4s\n",
      "[CV] learning_rate=0.1, max_depth=20, n_estimators=100 ...............\n",
      "[CV]  learning_rate=0.1, max_depth=20, n_estimators=100, score=0.932, total=  11.3s\n",
      "[CV] learning_rate=0.1, max_depth=20, n_estimators=100 ...............\n",
      "[CV]  learning_rate=0.1, max_depth=20, n_estimators=100, score=0.922, total=  11.3s\n",
      "[CV] learning_rate=0.1, max_depth=20, n_estimators=100 ...............\n",
      "[CV]  learning_rate=0.1, max_depth=20, n_estimators=100, score=0.929, total=  11.4s\n",
      "[CV] learning_rate=0.1, max_depth=20, n_estimators=100 ...............\n",
      "[CV]  learning_rate=0.1, max_depth=20, n_estimators=100, score=0.921, total=  11.0s\n",
      "[CV] learning_rate=0.1, max_depth=20, n_estimators=200 ...............\n",
      "[CV]  learning_rate=0.1, max_depth=20, n_estimators=200, score=0.932, total=  21.5s\n",
      "[CV] learning_rate=0.1, max_depth=20, n_estimators=200 ...............\n",
      "[CV]  learning_rate=0.1, max_depth=20, n_estimators=200, score=0.942, total=  21.3s\n",
      "[CV] learning_rate=0.1, max_depth=20, n_estimators=200 ...............\n",
      "[CV]  learning_rate=0.1, max_depth=20, n_estimators=200, score=0.928, total=  21.6s\n",
      "[CV] learning_rate=0.1, max_depth=20, n_estimators=200 ...............\n",
      "[CV]  learning_rate=0.1, max_depth=20, n_estimators=200, score=0.935, total=  21.5s\n",
      "[CV] learning_rate=0.1, max_depth=20, n_estimators=200 ...............\n",
      "[CV]  learning_rate=0.1, max_depth=20, n_estimators=200, score=0.929, total=  34.6s\n",
      "[CV] learning_rate=0.01, max_depth=3, n_estimators=10 ................\n",
      "[CV]  learning_rate=0.01, max_depth=3, n_estimators=10, score=0.764, total=   0.5s\n",
      "[CV] learning_rate=0.01, max_depth=3, n_estimators=10 ................\n",
      "[CV]  learning_rate=0.01, max_depth=3, n_estimators=10, score=0.764, total=   0.5s\n",
      "[CV] learning_rate=0.01, max_depth=3, n_estimators=10 ................\n",
      "[CV]  learning_rate=0.01, max_depth=3, n_estimators=10, score=0.758, total=   0.4s\n",
      "[CV] learning_rate=0.01, max_depth=3, n_estimators=10 ................\n",
      "[CV]  learning_rate=0.01, max_depth=3, n_estimators=10, score=0.750, total=   0.4s\n",
      "[CV] learning_rate=0.01, max_depth=3, n_estimators=10 ................\n",
      "[CV]  learning_rate=0.01, max_depth=3, n_estimators=10, score=0.764, total=   0.4s\n",
      "[CV] learning_rate=0.01, max_depth=3, n_estimators=50 ................\n",
      "[CV]  learning_rate=0.01, max_depth=3, n_estimators=50, score=0.769, total=   0.9s\n",
      "[CV] learning_rate=0.01, max_depth=3, n_estimators=50 ................\n",
      "[CV]  learning_rate=0.01, max_depth=3, n_estimators=50, score=0.776, total=   1.0s\n",
      "[CV] learning_rate=0.01, max_depth=3, n_estimators=50 ................\n",
      "[CV]  learning_rate=0.01, max_depth=3, n_estimators=50, score=0.761, total=   1.0s\n",
      "[CV] learning_rate=0.01, max_depth=3, n_estimators=50 ................\n",
      "[CV]  learning_rate=0.01, max_depth=3, n_estimators=50, score=0.755, total=   1.4s\n",
      "[CV] learning_rate=0.01, max_depth=3, n_estimators=50 ................\n",
      "[CV]  learning_rate=0.01, max_depth=3, n_estimators=50, score=0.764, total=   1.5s\n",
      "[CV] learning_rate=0.01, max_depth=3, n_estimators=100 ...............\n",
      "[CV]  learning_rate=0.01, max_depth=3, n_estimators=100, score=0.792, total=   2.8s\n",
      "[CV] learning_rate=0.01, max_depth=3, n_estimators=100 ...............\n",
      "[CV]  learning_rate=0.01, max_depth=3, n_estimators=100, score=0.800, total=   2.5s\n",
      "[CV] learning_rate=0.01, max_depth=3, n_estimators=100 ...............\n",
      "[CV]  learning_rate=0.01, max_depth=3, n_estimators=100, score=0.793, total=   2.6s\n",
      "[CV] learning_rate=0.01, max_depth=3, n_estimators=100 ...............\n",
      "[CV]  learning_rate=0.01, max_depth=3, n_estimators=100, score=0.786, total=   2.5s\n",
      "[CV] learning_rate=0.01, max_depth=3, n_estimators=100 ...............\n",
      "[CV]  learning_rate=0.01, max_depth=3, n_estimators=100, score=0.796, total=   2.5s\n",
      "[CV] learning_rate=0.01, max_depth=3, n_estimators=200 ...............\n",
      "[CV]  learning_rate=0.01, max_depth=3, n_estimators=200, score=0.800, total=   5.0s\n",
      "[CV] learning_rate=0.01, max_depth=3, n_estimators=200 ...............\n",
      "[CV]  learning_rate=0.01, max_depth=3, n_estimators=200, score=0.808, total=   4.7s\n",
      "[CV] learning_rate=0.01, max_depth=3, n_estimators=200 ...............\n",
      "[CV]  learning_rate=0.01, max_depth=3, n_estimators=200, score=0.802, total=   4.8s\n",
      "[CV] learning_rate=0.01, max_depth=3, n_estimators=200 ...............\n",
      "[CV]  learning_rate=0.01, max_depth=3, n_estimators=200, score=0.799, total=   4.9s\n",
      "[CV] learning_rate=0.01, max_depth=3, n_estimators=200 ...............\n",
      "[CV]  learning_rate=0.01, max_depth=3, n_estimators=200, score=0.808, total=   6.5s\n",
      "[CV] learning_rate=0.01, max_depth=5, n_estimators=10 ................\n",
      "[CV]  learning_rate=0.01, max_depth=5, n_estimators=10, score=0.796, total=   0.9s\n",
      "[CV] learning_rate=0.01, max_depth=5, n_estimators=10 ................\n",
      "[CV]  learning_rate=0.01, max_depth=5, n_estimators=10, score=0.802, total=   0.8s\n",
      "[CV] learning_rate=0.01, max_depth=5, n_estimators=10 ................\n",
      "[CV]  learning_rate=0.01, max_depth=5, n_estimators=10, score=0.791, total=   0.8s\n",
      "[CV] learning_rate=0.01, max_depth=5, n_estimators=10 ................\n",
      "[CV]  learning_rate=0.01, max_depth=5, n_estimators=10, score=0.791, total=   0.9s\n",
      "[CV] learning_rate=0.01, max_depth=5, n_estimators=10 ................\n",
      "[CV]  learning_rate=0.01, max_depth=5, n_estimators=10, score=0.799, total=   0.9s\n",
      "[CV] learning_rate=0.01, max_depth=5, n_estimators=50 ................\n",
      "[CV]  learning_rate=0.01, max_depth=5, n_estimators=50, score=0.807, total=   2.9s\n",
      "[CV] learning_rate=0.01, max_depth=5, n_estimators=50 ................\n",
      "[CV]  learning_rate=0.01, max_depth=5, n_estimators=50, score=0.815, total=   2.7s\n",
      "[CV] learning_rate=0.01, max_depth=5, n_estimators=50 ................\n",
      "[CV]  learning_rate=0.01, max_depth=5, n_estimators=50, score=0.809, total=   2.8s\n",
      "[CV] learning_rate=0.01, max_depth=5, n_estimators=50 ................\n",
      "[CV]  learning_rate=0.01, max_depth=5, n_estimators=50, score=0.798, total=   2.6s\n",
      "[CV] learning_rate=0.01, max_depth=5, n_estimators=50 ................\n",
      "[CV]  learning_rate=0.01, max_depth=5, n_estimators=50, score=0.810, total=   2.7s\n",
      "[CV] learning_rate=0.01, max_depth=5, n_estimators=100 ...............\n",
      "[CV]  learning_rate=0.01, max_depth=5, n_estimators=100, score=0.809, total=   5.0s\n",
      "[CV] learning_rate=0.01, max_depth=5, n_estimators=100 ...............\n",
      "[CV]  learning_rate=0.01, max_depth=5, n_estimators=100, score=0.821, total=   5.1s\n",
      "[CV] learning_rate=0.01, max_depth=5, n_estimators=100 ...............\n",
      "[CV]  learning_rate=0.01, max_depth=5, n_estimators=100, score=0.813, total=   4.7s\n",
      "[CV] learning_rate=0.01, max_depth=5, n_estimators=100 ...............\n",
      "[CV]  learning_rate=0.01, max_depth=5, n_estimators=100, score=0.811, total=   5.0s\n",
      "[CV] learning_rate=0.01, max_depth=5, n_estimators=100 ...............\n",
      "[CV]  learning_rate=0.01, max_depth=5, n_estimators=100, score=0.814, total=   5.1s\n",
      "[CV] learning_rate=0.01, max_depth=5, n_estimators=200 ...............\n",
      "[CV]  learning_rate=0.01, max_depth=5, n_estimators=200, score=0.817, total=  11.7s\n",
      "[CV] learning_rate=0.01, max_depth=5, n_estimators=200 ...............\n",
      "[CV]  learning_rate=0.01, max_depth=5, n_estimators=200, score=0.825, total=  12.6s\n",
      "[CV] learning_rate=0.01, max_depth=5, n_estimators=200 ...............\n",
      "[CV]  learning_rate=0.01, max_depth=5, n_estimators=200, score=0.817, total=  11.4s\n",
      "[CV] learning_rate=0.01, max_depth=5, n_estimators=200 ...............\n",
      "[CV]  learning_rate=0.01, max_depth=5, n_estimators=200, score=0.818, total=  11.1s\n",
      "[CV] learning_rate=0.01, max_depth=5, n_estimators=200 ...............\n",
      "[CV]  learning_rate=0.01, max_depth=5, n_estimators=200, score=0.822, total=  13.1s\n",
      "[CV] learning_rate=0.01, max_depth=10, n_estimators=10 ...............\n",
      "[CV]  learning_rate=0.01, max_depth=10, n_estimators=10, score=0.838, total=   2.2s\n",
      "[CV] learning_rate=0.01, max_depth=10, n_estimators=10 ...............\n",
      "[CV]  learning_rate=0.01, max_depth=10, n_estimators=10, score=0.850, total=   1.9s\n",
      "[CV] learning_rate=0.01, max_depth=10, n_estimators=10 ...............\n",
      "[CV]  learning_rate=0.01, max_depth=10, n_estimators=10, score=0.832, total=   1.8s\n",
      "[CV] learning_rate=0.01, max_depth=10, n_estimators=10 ...............\n",
      "[CV]  learning_rate=0.01, max_depth=10, n_estimators=10, score=0.837, total=   1.4s\n",
      "[CV] learning_rate=0.01, max_depth=10, n_estimators=10 ...............\n",
      "[CV]  learning_rate=0.01, max_depth=10, n_estimators=10, score=0.834, total=   1.4s\n",
      "[CV] learning_rate=0.01, max_depth=10, n_estimators=50 ...............\n",
      "[CV]  learning_rate=0.01, max_depth=10, n_estimators=50, score=0.845, total=   6.3s\n",
      "[CV] learning_rate=0.01, max_depth=10, n_estimators=50 ...............\n",
      "[CV]  learning_rate=0.01, max_depth=10, n_estimators=50, score=0.854, total=   5.8s\n",
      "[CV] learning_rate=0.01, max_depth=10, n_estimators=50 ...............\n",
      "[CV]  learning_rate=0.01, max_depth=10, n_estimators=50, score=0.839, total=   5.5s\n",
      "[CV] learning_rate=0.01, max_depth=10, n_estimators=50 ...............\n",
      "[CV]  learning_rate=0.01, max_depth=10, n_estimators=50, score=0.844, total=   5.9s\n",
      "[CV] learning_rate=0.01, max_depth=10, n_estimators=50 ...............\n",
      "[CV]  learning_rate=0.01, max_depth=10, n_estimators=50, score=0.845, total=   5.6s\n",
      "[CV] learning_rate=0.01, max_depth=10, n_estimators=100 ..............\n",
      "[CV]  learning_rate=0.01, max_depth=10, n_estimators=100, score=0.848, total=  11.6s\n",
      "[CV] learning_rate=0.01, max_depth=10, n_estimators=100 ..............\n",
      "[CV]  learning_rate=0.01, max_depth=10, n_estimators=100, score=0.859, total=   9.5s\n",
      "[CV] learning_rate=0.01, max_depth=10, n_estimators=100 ..............\n",
      "[CV]  learning_rate=0.01, max_depth=10, n_estimators=100, score=0.846, total=  11.8s\n",
      "[CV] learning_rate=0.01, max_depth=10, n_estimators=100 ..............\n",
      "[CV]  learning_rate=0.01, max_depth=10, n_estimators=100, score=0.849, total=  12.6s\n",
      "[CV] learning_rate=0.01, max_depth=10, n_estimators=100 ..............\n",
      "[CV]  learning_rate=0.01, max_depth=10, n_estimators=100, score=0.851, total=  12.2s\n",
      "[CV] learning_rate=0.01, max_depth=10, n_estimators=200 ..............\n",
      "[CV]  learning_rate=0.01, max_depth=10, n_estimators=200, score=0.856, total=  23.3s\n",
      "[CV] learning_rate=0.01, max_depth=10, n_estimators=200 ..............\n",
      "[CV]  learning_rate=0.01, max_depth=10, n_estimators=200, score=0.867, total=  19.1s\n",
      "[CV] learning_rate=0.01, max_depth=10, n_estimators=200 ..............\n",
      "[CV]  learning_rate=0.01, max_depth=10, n_estimators=200, score=0.856, total=  19.8s\n",
      "[CV] learning_rate=0.01, max_depth=10, n_estimators=200 ..............\n",
      "[CV]  learning_rate=0.01, max_depth=10, n_estimators=200, score=0.859, total=  18.6s\n",
      "[CV] learning_rate=0.01, max_depth=10, n_estimators=200 ..............\n",
      "[CV]  learning_rate=0.01, max_depth=10, n_estimators=200, score=0.859, total=  20.8s\n",
      "[CV] learning_rate=0.01, max_depth=20, n_estimators=10 ...............\n",
      "[CV]  learning_rate=0.01, max_depth=20, n_estimators=10, score=0.874, total=   2.1s\n",
      "[CV] learning_rate=0.01, max_depth=20, n_estimators=10 ...............\n",
      "[CV]  learning_rate=0.01, max_depth=20, n_estimators=10, score=0.882, total=   2.2s\n",
      "[CV] learning_rate=0.01, max_depth=20, n_estimators=10 ...............\n",
      "[CV]  learning_rate=0.01, max_depth=20, n_estimators=10, score=0.866, total=   2.2s\n",
      "[CV] learning_rate=0.01, max_depth=20, n_estimators=10 ...............\n",
      "[CV]  learning_rate=0.01, max_depth=20, n_estimators=10, score=0.874, total=   2.2s\n",
      "[CV] learning_rate=0.01, max_depth=20, n_estimators=10 ...............\n",
      "[CV]  learning_rate=0.01, max_depth=20, n_estimators=10, score=0.867, total=   2.3s\n",
      "[CV] learning_rate=0.01, max_depth=20, n_estimators=50 ...............\n",
      "[CV]  learning_rate=0.01, max_depth=20, n_estimators=50, score=0.881, total=  11.4s\n",
      "[CV] learning_rate=0.01, max_depth=20, n_estimators=50 ...............\n",
      "[CV]  learning_rate=0.01, max_depth=20, n_estimators=50, score=0.892, total=   9.3s\n",
      "[CV] learning_rate=0.01, max_depth=20, n_estimators=50 ...............\n",
      "[CV]  learning_rate=0.01, max_depth=20, n_estimators=50, score=0.878, total=   9.4s\n",
      "[CV] learning_rate=0.01, max_depth=20, n_estimators=50 ...............\n",
      "[CV]  learning_rate=0.01, max_depth=20, n_estimators=50, score=0.889, total=   8.5s\n",
      "[CV] learning_rate=0.01, max_depth=20, n_estimators=50 ...............\n",
      "[CV]  learning_rate=0.01, max_depth=20, n_estimators=50, score=0.881, total=   9.3s\n",
      "[CV] learning_rate=0.01, max_depth=20, n_estimators=100 ..............\n",
      "[CV]  learning_rate=0.01, max_depth=20, n_estimators=100, score=0.889, total=  20.3s\n",
      "[CV] learning_rate=0.01, max_depth=20, n_estimators=100 ..............\n",
      "[CV]  learning_rate=0.01, max_depth=20, n_estimators=100, score=0.901, total=  19.5s\n",
      "[CV] learning_rate=0.01, max_depth=20, n_estimators=100 ..............\n",
      "[CV]  learning_rate=0.01, max_depth=20, n_estimators=100, score=0.886, total=  22.1s\n",
      "[CV] learning_rate=0.01, max_depth=20, n_estimators=100 ..............\n",
      "[CV]  learning_rate=0.01, max_depth=20, n_estimators=100, score=0.895, total=  22.3s\n",
      "[CV] learning_rate=0.01, max_depth=20, n_estimators=100 ..............\n",
      "[CV]  learning_rate=0.01, max_depth=20, n_estimators=100, score=0.890, total=  20.5s\n",
      "[CV] learning_rate=0.01, max_depth=20, n_estimators=200 ..............\n",
      "[CV]  learning_rate=0.01, max_depth=20, n_estimators=200, score=0.903, total=  41.2s\n",
      "[CV] learning_rate=0.01, max_depth=20, n_estimators=200 ..............\n",
      "[CV]  learning_rate=0.01, max_depth=20, n_estimators=200, score=0.913, total=  35.8s\n",
      "[CV] learning_rate=0.01, max_depth=20, n_estimators=200 ..............\n",
      "[CV]  learning_rate=0.01, max_depth=20, n_estimators=200, score=0.899, total=  34.5s\n",
      "[CV] learning_rate=0.01, max_depth=20, n_estimators=200 ..............\n",
      "[CV]  learning_rate=0.01, max_depth=20, n_estimators=200, score=0.908, total=  34.1s\n",
      "[CV] learning_rate=0.01, max_depth=20, n_estimators=200 ..............\n",
      "[CV]  learning_rate=0.01, max_depth=20, n_estimators=200, score=0.902, total=  36.8s\n",
      "[CV] learning_rate=0.001, max_depth=3, n_estimators=10 ...............\n",
      "[CV]  learning_rate=0.001, max_depth=3, n_estimators=10, score=0.763, total=   0.6s\n",
      "[CV] learning_rate=0.001, max_depth=3, n_estimators=10 ...............\n",
      "[CV]  learning_rate=0.001, max_depth=3, n_estimators=10, score=0.764, total=   0.6s\n",
      "[CV] learning_rate=0.001, max_depth=3, n_estimators=10 ...............\n",
      "[CV]  learning_rate=0.001, max_depth=3, n_estimators=10, score=0.758, total=   0.7s\n",
      "[CV] learning_rate=0.001, max_depth=3, n_estimators=10 ...............\n",
      "[CV]  learning_rate=0.001, max_depth=3, n_estimators=10, score=0.750, total=   0.7s\n",
      "[CV] learning_rate=0.001, max_depth=3, n_estimators=10 ...............\n",
      "[CV]  learning_rate=0.001, max_depth=3, n_estimators=10, score=0.764, total=   0.7s\n",
      "[CV] learning_rate=0.001, max_depth=3, n_estimators=50 ...............\n",
      "[CV]  learning_rate=0.001, max_depth=3, n_estimators=50, score=0.764, total=   1.9s\n",
      "[CV] learning_rate=0.001, max_depth=3, n_estimators=50 ...............\n",
      "[CV]  learning_rate=0.001, max_depth=3, n_estimators=50, score=0.764, total=   1.7s\n",
      "[CV] learning_rate=0.001, max_depth=3, n_estimators=50 ...............\n",
      "[CV]  learning_rate=0.001, max_depth=3, n_estimators=50, score=0.758, total=   1.7s\n",
      "[CV] learning_rate=0.001, max_depth=3, n_estimators=50 ...............\n",
      "[CV]  learning_rate=0.001, max_depth=3, n_estimators=50, score=0.750, total=   1.7s\n",
      "[CV] learning_rate=0.001, max_depth=3, n_estimators=50 ...............\n",
      "[CV]  learning_rate=0.001, max_depth=3, n_estimators=50, score=0.764, total=   1.6s\n",
      "[CV] learning_rate=0.001, max_depth=3, n_estimators=100 ..............\n",
      "[CV]  learning_rate=0.001, max_depth=3, n_estimators=100, score=0.765, total=   2.7s\n",
      "[CV] learning_rate=0.001, max_depth=3, n_estimators=100 ..............\n",
      "[CV]  learning_rate=0.001, max_depth=3, n_estimators=100, score=0.764, total=   4.1s\n",
      "[CV] learning_rate=0.001, max_depth=3, n_estimators=100 ..............\n",
      "[CV]  learning_rate=0.001, max_depth=3, n_estimators=100, score=0.758, total=   3.5s\n",
      "[CV] learning_rate=0.001, max_depth=3, n_estimators=100 ..............\n",
      "[CV]  learning_rate=0.001, max_depth=3, n_estimators=100, score=0.750, total=   3.0s\n",
      "[CV] learning_rate=0.001, max_depth=3, n_estimators=100 ..............\n",
      "[CV]  learning_rate=0.001, max_depth=3, n_estimators=100, score=0.764, total=   3.1s\n",
      "[CV] learning_rate=0.001, max_depth=3, n_estimators=200 ..............\n",
      "[CV]  learning_rate=0.001, max_depth=3, n_estimators=200, score=0.765, total=   6.1s\n",
      "[CV] learning_rate=0.001, max_depth=3, n_estimators=200 ..............\n",
      "[CV]  learning_rate=0.001, max_depth=3, n_estimators=200, score=0.764, total=   5.3s\n",
      "[CV] learning_rate=0.001, max_depth=3, n_estimators=200 ..............\n",
      "[CV]  learning_rate=0.001, max_depth=3, n_estimators=200, score=0.758, total=   5.3s\n",
      "[CV] learning_rate=0.001, max_depth=3, n_estimators=200 ..............\n",
      "[CV]  learning_rate=0.001, max_depth=3, n_estimators=200, score=0.750, total=   5.2s\n",
      "[CV] learning_rate=0.001, max_depth=3, n_estimators=200 ..............\n",
      "[CV]  learning_rate=0.001, max_depth=3, n_estimators=200, score=0.764, total=   5.5s\n",
      "[CV] learning_rate=0.001, max_depth=5, n_estimators=10 ...............\n",
      "[CV]  learning_rate=0.001, max_depth=5, n_estimators=10, score=0.794, total=   0.8s\n",
      "[CV] learning_rate=0.001, max_depth=5, n_estimators=10 ...............\n",
      "[CV]  learning_rate=0.001, max_depth=5, n_estimators=10, score=0.803, total=   0.8s\n",
      "[CV] learning_rate=0.001, max_depth=5, n_estimators=10 ...............\n",
      "[CV]  learning_rate=0.001, max_depth=5, n_estimators=10, score=0.791, total=   0.8s\n",
      "[CV] learning_rate=0.001, max_depth=5, n_estimators=10 ...............\n",
      "[CV]  learning_rate=0.001, max_depth=5, n_estimators=10, score=0.791, total=   0.8s\n",
      "[CV] learning_rate=0.001, max_depth=5, n_estimators=10 ...............\n",
      "[CV]  learning_rate=0.001, max_depth=5, n_estimators=10, score=0.799, total=   0.7s\n",
      "[CV] learning_rate=0.001, max_depth=5, n_estimators=50 ...............\n",
      "[CV]  learning_rate=0.001, max_depth=5, n_estimators=50, score=0.798, total=   2.2s\n",
      "[CV] learning_rate=0.001, max_depth=5, n_estimators=50 ...............\n",
      "[CV]  learning_rate=0.001, max_depth=5, n_estimators=50, score=0.803, total=   2.2s\n",
      "[CV] learning_rate=0.001, max_depth=5, n_estimators=50 ...............\n",
      "[CV]  learning_rate=0.001, max_depth=5, n_estimators=50, score=0.791, total=   2.3s\n",
      "[CV] learning_rate=0.001, max_depth=5, n_estimators=50 ...............\n",
      "[CV]  learning_rate=0.001, max_depth=5, n_estimators=50, score=0.791, total=   2.2s\n",
      "[CV] learning_rate=0.001, max_depth=5, n_estimators=50 ...............\n",
      "[CV]  learning_rate=0.001, max_depth=5, n_estimators=50, score=0.799, total=   2.3s\n",
      "[CV] learning_rate=0.001, max_depth=5, n_estimators=100 ..............\n",
      "[CV]  learning_rate=0.001, max_depth=5, n_estimators=100, score=0.796, total=   4.1s\n",
      "[CV] learning_rate=0.001, max_depth=5, n_estimators=100 ..............\n",
      "[CV]  learning_rate=0.001, max_depth=5, n_estimators=100, score=0.803, total=   3.9s\n",
      "[CV] learning_rate=0.001, max_depth=5, n_estimators=100 ..............\n",
      "[CV]  learning_rate=0.001, max_depth=5, n_estimators=100, score=0.791, total=   4.5s\n",
      "[CV] learning_rate=0.001, max_depth=5, n_estimators=100 ..............\n",
      "[CV]  learning_rate=0.001, max_depth=5, n_estimators=100, score=0.791, total=   4.4s\n",
      "[CV] learning_rate=0.001, max_depth=5, n_estimators=100 ..............\n",
      "[CV]  learning_rate=0.001, max_depth=5, n_estimators=100, score=0.799, total=   4.3s\n",
      "[CV] learning_rate=0.001, max_depth=5, n_estimators=200 ..............\n",
      "[CV]  learning_rate=0.001, max_depth=5, n_estimators=200, score=0.801, total=   7.9s\n",
      "[CV] learning_rate=0.001, max_depth=5, n_estimators=200 ..............\n",
      "[CV]  learning_rate=0.001, max_depth=5, n_estimators=200, score=0.801, total=   8.8s\n",
      "[CV] learning_rate=0.001, max_depth=5, n_estimators=200 ..............\n",
      "[CV]  learning_rate=0.001, max_depth=5, n_estimators=200, score=0.800, total=   9.7s\n",
      "[CV] learning_rate=0.001, max_depth=5, n_estimators=200 ..............\n",
      "[CV]  learning_rate=0.001, max_depth=5, n_estimators=200, score=0.789, total=   9.0s\n",
      "[CV] learning_rate=0.001, max_depth=5, n_estimators=200 ..............\n",
      "[CV]  learning_rate=0.001, max_depth=5, n_estimators=200, score=0.798, total=   8.4s\n",
      "[CV] learning_rate=0.001, max_depth=10, n_estimators=10 ..............\n",
      "[CV]  learning_rate=0.001, max_depth=10, n_estimators=10, score=0.834, total=   1.2s\n",
      "[CV] learning_rate=0.001, max_depth=10, n_estimators=10 ..............\n",
      "[CV]  learning_rate=0.001, max_depth=10, n_estimators=10, score=0.843, total=   1.4s\n",
      "[CV] learning_rate=0.001, max_depth=10, n_estimators=10 ..............\n",
      "[CV]  learning_rate=0.001, max_depth=10, n_estimators=10, score=0.830, total=   1.2s\n",
      "[CV] learning_rate=0.001, max_depth=10, n_estimators=10 ..............\n",
      "[CV]  learning_rate=0.001, max_depth=10, n_estimators=10, score=0.837, total=   1.2s\n",
      "[CV] learning_rate=0.001, max_depth=10, n_estimators=10 ..............\n",
      "[CV]  learning_rate=0.001, max_depth=10, n_estimators=10, score=0.834, total=   1.2s\n",
      "[CV] learning_rate=0.001, max_depth=10, n_estimators=50 ..............\n",
      "[CV]  learning_rate=0.001, max_depth=10, n_estimators=50, score=0.837, total=   4.6s\n",
      "[CV] learning_rate=0.001, max_depth=10, n_estimators=50 ..............\n",
      "[CV]  learning_rate=0.001, max_depth=10, n_estimators=50, score=0.845, total=   4.7s\n",
      "[CV] learning_rate=0.001, max_depth=10, n_estimators=50 ..............\n",
      "[CV]  learning_rate=0.001, max_depth=10, n_estimators=50, score=0.831, total=   4.6s\n",
      "[CV] learning_rate=0.001, max_depth=10, n_estimators=50 ..............\n",
      "[CV]  learning_rate=0.001, max_depth=10, n_estimators=50, score=0.838, total=   4.6s\n",
      "[CV] learning_rate=0.001, max_depth=10, n_estimators=50 ..............\n",
      "[CV]  learning_rate=0.001, max_depth=10, n_estimators=50, score=0.834, total=   4.8s\n",
      "[CV] learning_rate=0.001, max_depth=10, n_estimators=100 .............\n",
      "[CV]  learning_rate=0.001, max_depth=10, n_estimators=100, score=0.839, total=   9.4s\n",
      "[CV] learning_rate=0.001, max_depth=10, n_estimators=100 .............\n",
      "[CV]  learning_rate=0.001, max_depth=10, n_estimators=100, score=0.849, total=   9.4s\n",
      "[CV] learning_rate=0.001, max_depth=10, n_estimators=100 .............\n",
      "[CV]  learning_rate=0.001, max_depth=10, n_estimators=100, score=0.833, total=   8.6s\n",
      "[CV] learning_rate=0.001, max_depth=10, n_estimators=100 .............\n",
      "[CV]  learning_rate=0.001, max_depth=10, n_estimators=100, score=0.837, total=   9.5s\n",
      "[CV] learning_rate=0.001, max_depth=10, n_estimators=100 .............\n",
      "[CV]  learning_rate=0.001, max_depth=10, n_estimators=100, score=0.834, total=   9.4s\n",
      "[CV] learning_rate=0.001, max_depth=10, n_estimators=200 .............\n",
      "[CV]  learning_rate=0.001, max_depth=10, n_estimators=200, score=0.843, total=  18.0s\n",
      "[CV] learning_rate=0.001, max_depth=10, n_estimators=200 .............\n",
      "[CV]  learning_rate=0.001, max_depth=10, n_estimators=200, score=0.852, total=  18.7s\n",
      "[CV] learning_rate=0.001, max_depth=10, n_estimators=200 .............\n",
      "[CV]  learning_rate=0.001, max_depth=10, n_estimators=200, score=0.836, total=  17.5s\n",
      "[CV] learning_rate=0.001, max_depth=10, n_estimators=200 .............\n",
      "[CV]  learning_rate=0.001, max_depth=10, n_estimators=200, score=0.841, total=  19.2s\n",
      "[CV] learning_rate=0.001, max_depth=10, n_estimators=200 .............\n",
      "[CV]  learning_rate=0.001, max_depth=10, n_estimators=200, score=0.836, total=  18.0s\n",
      "[CV] learning_rate=0.001, max_depth=20, n_estimators=10 ..............\n",
      "[CV]  learning_rate=0.001, max_depth=20, n_estimators=10, score=0.866, total=   2.1s\n",
      "[CV] learning_rate=0.001, max_depth=20, n_estimators=10 ..............\n",
      "[CV]  learning_rate=0.001, max_depth=20, n_estimators=10, score=0.882, total=   2.1s\n",
      "[CV] learning_rate=0.001, max_depth=20, n_estimators=10 ..............\n",
      "[CV]  learning_rate=0.001, max_depth=20, n_estimators=10, score=0.866, total=   2.2s\n",
      "[CV] learning_rate=0.001, max_depth=20, n_estimators=10 ..............\n",
      "[CV]  learning_rate=0.001, max_depth=20, n_estimators=10, score=0.871, total=   2.1s\n",
      "[CV] learning_rate=0.001, max_depth=20, n_estimators=10 ..............\n",
      "[CV]  learning_rate=0.001, max_depth=20, n_estimators=10, score=0.863, total=   2.3s\n",
      "[CV] learning_rate=0.001, max_depth=20, n_estimators=50 ..............\n",
      "[CV]  learning_rate=0.001, max_depth=20, n_estimators=50, score=0.870, total=   9.2s\n",
      "[CV] learning_rate=0.001, max_depth=20, n_estimators=50 ..............\n",
      "[CV]  learning_rate=0.001, max_depth=20, n_estimators=50, score=0.881, total=  11.4s\n",
      "[CV] learning_rate=0.001, max_depth=20, n_estimators=50 ..............\n",
      "[CV]  learning_rate=0.001, max_depth=20, n_estimators=50, score=0.865, total=   9.9s\n",
      "[CV] learning_rate=0.001, max_depth=20, n_estimators=50 ..............\n",
      "[CV]  learning_rate=0.001, max_depth=20, n_estimators=50, score=0.872, total=  11.1s\n",
      "[CV] learning_rate=0.001, max_depth=20, n_estimators=50 ..............\n",
      "[CV]  learning_rate=0.001, max_depth=20, n_estimators=50, score=0.864, total=  10.3s\n",
      "[CV] learning_rate=0.001, max_depth=20, n_estimators=100 .............\n",
      "[CV]  learning_rate=0.001, max_depth=20, n_estimators=100, score=0.871, total=  19.6s\n",
      "[CV] learning_rate=0.001, max_depth=20, n_estimators=100 .............\n",
      "[CV]  learning_rate=0.001, max_depth=20, n_estimators=100, score=0.882, total=  17.6s\n",
      "[CV] learning_rate=0.001, max_depth=20, n_estimators=100 .............\n",
      "[CV]  learning_rate=0.001, max_depth=20, n_estimators=100, score=0.866, total=  19.4s\n",
      "[CV] learning_rate=0.001, max_depth=20, n_estimators=100 .............\n",
      "[CV]  learning_rate=0.001, max_depth=20, n_estimators=100, score=0.875, total=  20.3s\n",
      "[CV] learning_rate=0.001, max_depth=20, n_estimators=100 .............\n",
      "[CV]  learning_rate=0.001, max_depth=20, n_estimators=100, score=0.866, total=  21.4s\n",
      "[CV] learning_rate=0.001, max_depth=20, n_estimators=200 .............\n",
      "[CV]  learning_rate=0.001, max_depth=20, n_estimators=200, score=0.871, total=  36.6s\n",
      "[CV] learning_rate=0.001, max_depth=20, n_estimators=200 .............\n",
      "[CV]  learning_rate=0.001, max_depth=20, n_estimators=200, score=0.884, total=  36.5s\n",
      "[CV] learning_rate=0.001, max_depth=20, n_estimators=200 .............\n",
      "[CV]  learning_rate=0.001, max_depth=20, n_estimators=200, score=0.872, total=  34.2s\n",
      "[CV] learning_rate=0.001, max_depth=20, n_estimators=200 .............\n",
      "[CV]  learning_rate=0.001, max_depth=20, n_estimators=200, score=0.875, total=  33.5s\n",
      "[CV] learning_rate=0.001, max_depth=20, n_estimators=200 .............\n",
      "[CV]  learning_rate=0.001, max_depth=20, n_estimators=200, score=0.874, total=  34.2s\n"
     ]
    },
    {
     "name": "stderr",
     "output_type": "stream",
     "text": [
      "[Parallel(n_jobs=1)]: Done 400 out of 400 | elapsed: 40.9min finished\n"
     ]
    },
    {
     "data": {
      "text/plain": [
       "GridSearchCV(estimator=XGBClassifier(base_score=None, booster=None,\n",
       "                                     colsample_bylevel=None,\n",
       "                                     colsample_bynode=None,\n",
       "                                     colsample_bytree=None, gamma=None,\n",
       "                                     gpu_id=None, importance_type='gain',\n",
       "                                     interaction_constraints=None,\n",
       "                                     learning_rate=None, max_delta_step=None,\n",
       "                                     max_depth=None, min_child_weight=None,\n",
       "                                     missing=nan, monotone_constraints=None,\n",
       "                                     n_estimators=100, n_jobs=None,\n",
       "                                     num_parallel_tree=None, random_state=None,\n",
       "                                     reg_alpha=None, reg_lambda=None,\n",
       "                                     scale_pos_weight=None, subsample=None,\n",
       "                                     tree_method=None, validate_parameters=None,\n",
       "                                     verbosity=None),\n",
       "             param_grid={'learning_rate': [1, 0.5, 0.1, 0.01, 0.001],\n",
       "                         'max_depth': [3, 5, 10, 20],\n",
       "                         'n_estimators': [10, 50, 100, 200]},\n",
       "             verbose=3)"
      ]
     },
     "execution_count": 47,
     "metadata": {},
     "output_type": "execute_result"
    }
   ],
   "source": [
    "grid.fit(over_sampled_x,over_sampled_y)"
   ]
  },
  {
   "cell_type": "code",
   "execution_count": 49,
   "metadata": {},
   "outputs": [
    {
     "data": {
      "text/plain": [
       "{'learning_rate': 0.5, 'max_depth': 20, 'n_estimators': 200}"
      ]
     },
     "execution_count": 49,
     "metadata": {},
     "output_type": "execute_result"
    }
   ],
   "source": [
    "grid.best_params_"
   ]
  },
  {
   "cell_type": "code",
   "execution_count": 50,
   "metadata": {},
   "outputs": [
    {
     "data": {
      "text/plain": [
       "XGBClassifier(base_score=0.5, booster='gbtree', colsample_bylevel=1,\n",
       "              colsample_bynode=1, colsample_bytree=1, gamma=0, gpu_id=-1,\n",
       "              importance_type='gain', interaction_constraints='',\n",
       "              learning_rate=0.5, max_delta_step=0, max_depth=20,\n",
       "              min_child_weight=1, missing=nan, monotone_constraints='()',\n",
       "              n_estimators=200, n_jobs=0, num_parallel_tree=1, random_state=0,\n",
       "              reg_alpha=0, reg_lambda=1, scale_pos_weight=1, subsample=1,\n",
       "              tree_method='exact', validate_parameters=1, verbosity=None)"
      ]
     },
     "execution_count": 50,
     "metadata": {},
     "output_type": "execute_result"
    }
   ],
   "source": [
    "new_model=XGBClassifier(learning_rate= 0.5, max_depth= 20, n_estimators= 200)\n",
    "new_model.fit(over_sampled_x, over_sampled_y)"
   ]
  },
  {
   "cell_type": "code",
   "execution_count": 51,
   "metadata": {},
   "outputs": [
    {
     "data": {
      "text/plain": [
       "0.9999730400086272"
      ]
     },
     "execution_count": 51,
     "metadata": {},
     "output_type": "execute_result"
    }
   ],
   "source": [
    "#Training accuracy on over sampled data\n",
    "y_pred_over = new_model.predict(over_sampled_x)\n",
    "predictions = [(value) for value in y_pred_over]\n",
    "accuracy = accuracy_score(over_sampled_y,predictions)\n",
    "accuracy"
   ]
  },
  {
   "cell_type": "code",
   "execution_count": 53,
   "metadata": {},
   "outputs": [
    {
     "data": {
      "text/plain": [
       "array([[18545,     1],\n",
       "       [    0, 18546]], dtype=int64)"
      ]
     },
     "execution_count": 53,
     "metadata": {},
     "output_type": "execute_result"
    }
   ],
   "source": [
    "confusion_matrix(over_sampled_y,y_pred_over)"
   ]
  },
  {
   "cell_type": "code",
   "execution_count": 54,
   "metadata": {},
   "outputs": [
    {
     "data": {
      "text/plain": [
       "0.8469475494411006"
      ]
     },
     "execution_count": 54,
     "metadata": {},
     "output_type": "execute_result"
    }
   ],
   "source": [
    "#Accuracy on test data\n",
    "y_pred_test = new_model.predict(x_test)\n",
    "predictions = [(value) for value in y_pred_test]\n",
    "accuracy = accuracy_score(y_test,predictions)\n",
    "accuracy"
   ]
  },
  {
   "cell_type": "code",
   "execution_count": 55,
   "metadata": {},
   "outputs": [
    {
     "data": {
      "text/plain": [
       "array([[5592,  582],\n",
       "       [ 664, 1303]], dtype=int64)"
      ]
     },
     "execution_count": 55,
     "metadata": {},
     "output_type": "execute_result"
    }
   ],
   "source": [
    "confusion_matrix(y_test,y_pred_test)"
   ]
  },
  {
   "cell_type": "code",
   "execution_count": 56,
   "metadata": {},
   "outputs": [
    {
     "data": {
      "text/plain": [
       "0.8372335851606166"
      ]
     },
     "execution_count": 56,
     "metadata": {},
     "output_type": "execute_result"
    }
   ],
   "source": [
    "#Accuracy on test file\n",
    "\n",
    "y_pred_test_file = new_model.predict(x_inp_test)\n",
    "predictions = [(value) for value in y_pred_test_file]\n",
    "accuracy = accuracy_score(test_y,predictions)\n",
    "accuracy"
   ]
  },
  {
   "cell_type": "code",
   "execution_count": 58,
   "metadata": {},
   "outputs": [
    {
     "data": {
      "text/plain": [
       "array([[11261,  1174],\n",
       "       [ 1476,  2370]], dtype=int64)"
      ]
     },
     "execution_count": 58,
     "metadata": {},
     "output_type": "execute_result"
    }
   ],
   "source": [
    "confusion_matrix(test_y,y_pred_test_file)"
   ]
  },
  {
   "cell_type": "markdown",
   "metadata": {},
   "source": [
    "# Deployment"
   ]
  },
  {
   "cell_type": "code",
   "execution_count": 60,
   "metadata": {},
   "outputs": [],
   "source": [
    "# saving the model to the local file system\n",
    "import pickle\n",
    "filename = 'finalized_model.pickle'\n",
    "pickle.dump(new_model, open(filename, 'wb'))"
   ]
  },
  {
   "cell_type": "code",
   "execution_count": null,
   "metadata": {},
   "outputs": [],
   "source": []
  }
 ],
 "metadata": {
  "kernelspec": {
   "display_name": "Python 3",
   "language": "python",
   "name": "python3"
  },
  "language_info": {
   "codemirror_mode": {
    "name": "ipython",
    "version": 3
   },
   "file_extension": ".py",
   "mimetype": "text/x-python",
   "name": "python",
   "nbconvert_exporter": "python",
   "pygments_lexer": "ipython3",
   "version": "3.8.3"
  }
 },
 "nbformat": 4,
 "nbformat_minor": 4
}
