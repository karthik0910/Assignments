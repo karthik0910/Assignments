{
 "cells": [
  {
   "cell_type": "code",
   "execution_count": 1,
   "metadata": {},
   "outputs": [],
   "source": [
    "#libraries used in this assignment\n",
    "\n",
    "import numpy as np\n",
    "import statistics as sta\n",
    "import math\n",
    "import sympy as sp\n",
    "from scipy.stats import binom\n",
    "from scipy.stats import poisson\n",
    "import seaborn as sb\n",
    "import matplotlib.pyplot as plt\n",
    "import scipy as sc\n",
    "from scipy.integrate import quad"
   ]
  },
  {
   "cell_type": "markdown",
   "metadata": {},
   "source": [
    "Problem Statement 1:\n",
    "\n",
    "\n",
    "The marks awarded for an assignment set for a Year 8 class of 20 students were as\n",
    "follows:\n",
    "\n",
    "6 7 5 7 7 8 7 6 9 7 4 10 6 8 8 9 5 6 4 8"
   ]
  },
  {
   "cell_type": "code",
   "execution_count": 2,
   "metadata": {},
   "outputs": [
    {
     "name": "stdout",
     "output_type": "stream",
     "text": [
      "mean of the marks in the assignment: 6.85\n",
      "median of the marks in the assignment: 7.0\n",
      "mode of the marks in the assignment: 7\n",
      "Variance of the marks in the assignment: 2.6605263157894736\n",
      "Std Dev of the marks in the assignment: 1.6311119875071343\n"
     ]
    }
   ],
   "source": [
    "marks = [6,7,5,7,7,8,7,6,9,7,4,10,6,8,8,9,5,6,4,8]\n",
    "\n",
    "mean = np.mean(marks)\n",
    "median = np.median(marks)\n",
    "mode = sta.mode(marks)\n",
    "var = sta.variance(marks)\n",
    "stdtdev = sta.stdev(marks)\n",
    "\n",
    "print(\"mean of the marks in the assignment: {}\".format(mean))\n",
    "print(\"median of the marks in the assignment: {}\".format(median))\n",
    "print(\"mode of the marks in the assignment: {}\".format(mode))\n",
    "print(\"Variance of the marks in the assignment: {}\".format(var))\n",
    "print(\"Std Dev of the marks in the assignment: {}\".format(stdtdev))\n"
   ]
  },
  {
   "cell_type": "markdown",
   "metadata": {},
   "source": [
    "Problem Statement 2:\n",
    "\n",
    "The number of calls from motorists per day for roadside service was recorded for a\n",
    "particular month:\n",
    "28, 122, 217, 130, 120, 86, 80, 90, 140, 120, 70, 40, 145, 113, 90, 68, 174, 194, 170,\n",
    "100, 75, 104, 97, 75,\n",
    "123, 100, 75, 104, 97, 75, 123, 100, 89, 120, 109"
   ]
  },
  {
   "cell_type": "code",
   "execution_count": 3,
   "metadata": {},
   "outputs": [
    {
     "name": "stdout",
     "output_type": "stream",
     "text": [
      "mean of the calls from motorists per day: 107.51428571428572\n",
      "median of the calls from motorists per day: 100.0\n",
      "mode of the calls from motorists per day: 75\n",
      "Variance of the calls from motorists per day: 1547.5512605042018\n",
      "Std Dev of the calls from motorists per day: 39.33892805484412\n"
     ]
    }
   ],
   "source": [
    "calls = [28, 122, 217, 130, 120, 86, 80, 90, 140, 120, 70, 40, 145, 113, 90, 68, 174, 194, 170,100, 75, 104, 97, 75,123, 100, 75, 104, 97, 75, 123, 100, 89, 120, 109]\n",
    "\n",
    "mean = np.mean(calls)\n",
    "median = np.median(calls)\n",
    "mode = sta.mode(calls)\n",
    "var = sta.variance(calls)\n",
    "stdtdev = sta.stdev(calls)\n",
    "\n",
    "print(\"mean of the calls from motorists per day: {}\".format(mean))\n",
    "print(\"median of the calls from motorists per day: {}\".format(median))\n",
    "print(\"mode of the calls from motorists per day: {}\".format(mode))\n",
    "print(\"Variance of the calls from motorists per day: {}\".format(var))\n",
    "print(\"Std Dev of the calls from motorists per day: {}\".format(stdtdev))"
   ]
  },
  {
   "cell_type": "markdown",
   "metadata": {},
   "source": [
    "Problem Statement 3:\n",
    "\n",
    "\n",
    "The number of times I go to the gym in weekdays, are given below along with its\n",
    "associated probability:\n",
    "x = 0, 1, 2, 3, 4, 5\n",
    "f(x) = 0.09, 0.15, 0.40, 0.25, 0.10, 0.01\n",
    "Calculate the mean no. of workouts in a week. Also evaluate the variance involved in\n",
    "it."
   ]
  },
  {
   "cell_type": "code",
   "execution_count": 4,
   "metadata": {},
   "outputs": [
    {
     "name": "stdout",
     "output_type": "stream",
     "text": [
      "mean no. of workouts in a week: 2.15\n",
      "variance of workouts in a week: 1.2275\n"
     ]
    }
   ],
   "source": [
    "x= [0, 1, 2, 3, 4, 5]\n",
    "prob= [0.09, 0.15, 0.40, 0.25, 0.10, 0.01]\n",
    "\n",
    "y = 0\n",
    "for i,j in zip(x,prob):\n",
    "    y = y+(i*j)\n",
    "\n",
    "z = 0\n",
    "for i, j in zip(x,prob):\n",
    "    z = z+((i**2)*j)\n",
    "variance = z-(y**2)\n",
    "    \n",
    "print(\"mean no. of workouts in a week: {}\".format(y))\n",
    "    \n",
    "print(\"variance of workouts in a week: {}\".format(variance))"
   ]
  },
  {
   "cell_type": "markdown",
   "metadata": {},
   "source": [
    "Problem Statement 4:\n",
    "    \n",
    "Let the continuous random variable D denote the diameter of the hole drilled in an\n",
    "aluminum sheet. The target diameter to be achieved is 12.5mm. Random\n",
    "disturbances in the process often result in inaccuracy.\n",
    "Historical data shows that the distribution of D can be modelled by the PDF (d) =\n",
    "20e−20(d−12.5), d ≥ 12.5. If a part with diameter > 12.6 mm needs to be scrapped,\n",
    "what is the proportion of those parts? What is the CDF when the diameter is of 11\n",
    "mm? What is your conclusion regarding the proportion of scraps?"
   ]
  },
  {
   "cell_type": "code",
   "execution_count": 5,
   "metadata": {},
   "outputs": [],
   "source": [
    "d = np.arange(12.5,20.5,0.1)\n",
    "x = 20*(math.exp(-20))"
   ]
  },
  {
   "cell_type": "code",
   "execution_count": 6,
   "metadata": {},
   "outputs": [
    {
     "name": "stdout",
     "output_type": "stream",
     "text": [
      "Proportion of parts need to be scrapped when d>12.6: 0.13533528323661398\n",
      "The CDF when the diameter is of 11mm: nan\n"
     ]
    },
    {
     "name": "stderr",
     "output_type": "stream",
     "text": [
      "C:\\Users\\TBRC-LAP-15\\Anaconda3\\lib\\site-packages\\ipykernel_launcher.py:11: IntegrationWarning: The maximum number of subdivisions (50) has been achieved.\n",
      "  If increasing the limit yields no improvement it is advised to analyze \n",
      "  the integrand in order to determine the difficulties.  If the position of a \n",
      "  local difficulty can be determined (singularity, discontinuity) one will \n",
      "  probably gain from splitting up the interval and calling the integrator \n",
      "  on the subranges.  Perhaps a special-purpose integrator should be used.\n",
      "  # This is added back by InteractiveShellApp.init_path()\n"
     ]
    }
   ],
   "source": [
    "#If a part with diameter > 12.6 mm needs to be scrapped, what is the proportion of those parts?\n",
    "\n",
    "def f(x):\n",
    "    return (20*(np.exp(-20*(x-12.5))))\n",
    "\n",
    "i=quad(f,12.6,np.inf)\n",
    "\n",
    "\n",
    "#the CDF when the diameter is of 11mm?\n",
    "\n",
    "j=quad(f,-np.inf,11)\n",
    "\n",
    "print(\"Proportion of parts need to be scrapped when d>12.6: {}\".format(i[0]))\n",
    "print(\"The CDF when the diameter is of 11mm: {}\".format(j[0]))"
   ]
  },
  {
   "cell_type": "markdown",
   "metadata": {},
   "source": [
    "Problem Statement 5:\n",
    "\n",
    "A company manufactures LED bulbs with a faulty rate of 30%. If I randomly select 6\n",
    "chosen LEDs, what is the probability of having 2 faulty LEDs in my sample?\n",
    "Calculate the average value of this process. Also evaluate the standard deviation\n",
    "associated with it."
   ]
  },
  {
   "cell_type": "code",
   "execution_count": 7,
   "metadata": {},
   "outputs": [
    {
     "name": "stdout",
     "output_type": "stream",
     "text": [
      "probability of having 2 faulty LEDs in sample : 0.3241349999999999\n",
      "average value of the process 1.80297\n"
     ]
    },
    {
     "name": "stderr",
     "output_type": "stream",
     "text": [
      "C:\\Users\\TBRC-LAP-15\\Anaconda3\\lib\\fractions.py:412: RuntimeWarning: overflow encountered in long_scalars\n",
      "  return Fraction(a.numerator * db - b.numerator * da,\n"
     ]
    },
    {
     "ename": "AssertionError",
     "evalue": "negative sum of square deviations: -3164.100970",
     "output_type": "error",
     "traceback": [
      "\u001b[1;31m---------------------------------------------------------------------------\u001b[0m",
      "\u001b[1;31mAssertionError\u001b[0m                            Traceback (most recent call last)",
      "\u001b[1;32m<ipython-input-7-5b72368e5da3>\u001b[0m in \u001b[0;36m<module>\u001b[1;34m\u001b[0m\n\u001b[0;32m     18\u001b[0m \u001b[0mprint\u001b[0m\u001b[1;33m(\u001b[0m\u001b[1;34m\"probability of having 2 faulty LEDs in sample : {}\"\u001b[0m\u001b[1;33m.\u001b[0m\u001b[0mformat\u001b[0m\u001b[1;33m(\u001b[0m\u001b[0mproba\u001b[0m\u001b[1;33m)\u001b[0m\u001b[1;33m)\u001b[0m\u001b[1;33m\u001b[0m\u001b[1;33m\u001b[0m\u001b[0m\n\u001b[0;32m     19\u001b[0m \u001b[0mprint\u001b[0m\u001b[1;33m(\u001b[0m\u001b[1;34m\"average value of the process {}\"\u001b[0m\u001b[1;33m.\u001b[0m\u001b[0mformat\u001b[0m\u001b[1;33m(\u001b[0m\u001b[0mnp\u001b[0m\u001b[1;33m.\u001b[0m\u001b[0mmean\u001b[0m\u001b[1;33m(\u001b[0m\u001b[0mbinomial\u001b[0m\u001b[1;33m)\u001b[0m\u001b[1;33m)\u001b[0m\u001b[1;33m)\u001b[0m\u001b[1;33m\u001b[0m\u001b[1;33m\u001b[0m\u001b[0m\n\u001b[1;32m---> 20\u001b[1;33m \u001b[0mprint\u001b[0m\u001b[1;33m(\u001b[0m\u001b[1;34m\"std dev of the process {}\"\u001b[0m\u001b[1;33m.\u001b[0m\u001b[0mformat\u001b[0m\u001b[1;33m(\u001b[0m\u001b[0msta\u001b[0m\u001b[1;33m.\u001b[0m\u001b[0mstdev\u001b[0m\u001b[1;33m(\u001b[0m\u001b[0mbinomial\u001b[0m\u001b[1;33m)\u001b[0m\u001b[1;33m)\u001b[0m\u001b[1;33m)\u001b[0m\u001b[1;33m\u001b[0m\u001b[1;33m\u001b[0m\u001b[0m\n\u001b[0m",
      "\u001b[1;32m~\\Anaconda3\\lib\\statistics.py\u001b[0m in \u001b[0;36mstdev\u001b[1;34m(data, xbar)\u001b[0m\n\u001b[0;32m    647\u001b[0m \u001b[1;33m\u001b[0m\u001b[0m\n\u001b[0;32m    648\u001b[0m     \"\"\"\n\u001b[1;32m--> 649\u001b[1;33m     \u001b[0mvar\u001b[0m \u001b[1;33m=\u001b[0m \u001b[0mvariance\u001b[0m\u001b[1;33m(\u001b[0m\u001b[0mdata\u001b[0m\u001b[1;33m,\u001b[0m \u001b[0mxbar\u001b[0m\u001b[1;33m)\u001b[0m\u001b[1;33m\u001b[0m\u001b[1;33m\u001b[0m\u001b[0m\n\u001b[0m\u001b[0;32m    650\u001b[0m     \u001b[1;32mtry\u001b[0m\u001b[1;33m:\u001b[0m\u001b[1;33m\u001b[0m\u001b[1;33m\u001b[0m\u001b[0m\n\u001b[0;32m    651\u001b[0m         \u001b[1;32mreturn\u001b[0m \u001b[0mvar\u001b[0m\u001b[1;33m.\u001b[0m\u001b[0msqrt\u001b[0m\u001b[1;33m(\u001b[0m\u001b[1;33m)\u001b[0m\u001b[1;33m\u001b[0m\u001b[1;33m\u001b[0m\u001b[0m\n",
      "\u001b[1;32m~\\Anaconda3\\lib\\statistics.py\u001b[0m in \u001b[0;36mvariance\u001b[1;34m(data, xbar)\u001b[0m\n\u001b[0;32m    586\u001b[0m     \u001b[1;32mif\u001b[0m \u001b[0mn\u001b[0m \u001b[1;33m<\u001b[0m \u001b[1;36m2\u001b[0m\u001b[1;33m:\u001b[0m\u001b[1;33m\u001b[0m\u001b[1;33m\u001b[0m\u001b[0m\n\u001b[0;32m    587\u001b[0m         \u001b[1;32mraise\u001b[0m \u001b[0mStatisticsError\u001b[0m\u001b[1;33m(\u001b[0m\u001b[1;34m'variance requires at least two data points'\u001b[0m\u001b[1;33m)\u001b[0m\u001b[1;33m\u001b[0m\u001b[1;33m\u001b[0m\u001b[0m\n\u001b[1;32m--> 588\u001b[1;33m     \u001b[0mT\u001b[0m\u001b[1;33m,\u001b[0m \u001b[0mss\u001b[0m \u001b[1;33m=\u001b[0m \u001b[0m_ss\u001b[0m\u001b[1;33m(\u001b[0m\u001b[0mdata\u001b[0m\u001b[1;33m,\u001b[0m \u001b[0mxbar\u001b[0m\u001b[1;33m)\u001b[0m\u001b[1;33m\u001b[0m\u001b[1;33m\u001b[0m\u001b[0m\n\u001b[0m\u001b[0;32m    589\u001b[0m     \u001b[1;32mreturn\u001b[0m \u001b[0m_convert\u001b[0m\u001b[1;33m(\u001b[0m\u001b[0mss\u001b[0m\u001b[1;33m/\u001b[0m\u001b[1;33m(\u001b[0m\u001b[0mn\u001b[0m\u001b[1;33m-\u001b[0m\u001b[1;36m1\u001b[0m\u001b[1;33m)\u001b[0m\u001b[1;33m,\u001b[0m \u001b[0mT\u001b[0m\u001b[1;33m)\u001b[0m\u001b[1;33m\u001b[0m\u001b[1;33m\u001b[0m\u001b[0m\n\u001b[0;32m    590\u001b[0m \u001b[1;33m\u001b[0m\u001b[0m\n",
      "\u001b[1;32m~\\Anaconda3\\lib\\statistics.py\u001b[0m in \u001b[0;36m_ss\u001b[1;34m(data, c)\u001b[0m\n\u001b[0;32m    539\u001b[0m     \u001b[1;32massert\u001b[0m \u001b[0mT\u001b[0m \u001b[1;33m==\u001b[0m \u001b[0mU\u001b[0m \u001b[1;32mand\u001b[0m \u001b[0mcount\u001b[0m \u001b[1;33m==\u001b[0m \u001b[0mcount2\u001b[0m\u001b[1;33m\u001b[0m\u001b[1;33m\u001b[0m\u001b[0m\n\u001b[0;32m    540\u001b[0m     \u001b[0mtotal\u001b[0m \u001b[1;33m-=\u001b[0m  \u001b[0mtotal2\u001b[0m\u001b[1;33m**\u001b[0m\u001b[1;36m2\u001b[0m\u001b[1;33m/\u001b[0m\u001b[0mlen\u001b[0m\u001b[1;33m(\u001b[0m\u001b[0mdata\u001b[0m\u001b[1;33m)\u001b[0m\u001b[1;33m\u001b[0m\u001b[1;33m\u001b[0m\u001b[0m\n\u001b[1;32m--> 541\u001b[1;33m     \u001b[1;32massert\u001b[0m \u001b[1;32mnot\u001b[0m \u001b[0mtotal\u001b[0m \u001b[1;33m<\u001b[0m \u001b[1;36m0\u001b[0m\u001b[1;33m,\u001b[0m \u001b[1;34m'negative sum of square deviations: %f'\u001b[0m \u001b[1;33m%\u001b[0m \u001b[0mtotal\u001b[0m\u001b[1;33m\u001b[0m\u001b[1;33m\u001b[0m\u001b[0m\n\u001b[0m\u001b[0;32m    542\u001b[0m     \u001b[1;32mreturn\u001b[0m \u001b[1;33m(\u001b[0m\u001b[0mT\u001b[0m\u001b[1;33m,\u001b[0m \u001b[0mtotal\u001b[0m\u001b[1;33m)\u001b[0m\u001b[1;33m\u001b[0m\u001b[1;33m\u001b[0m\u001b[0m\n\u001b[0;32m    543\u001b[0m \u001b[1;33m\u001b[0m\u001b[0m\n",
      "\u001b[1;31mAssertionError\u001b[0m: negative sum of square deviations: -3164.100970"
     ]
    }
   ],
   "source": [
    "from scipy.stats import binom\n",
    "#probability of having 2 faulty LEDs in sample\n",
    "\n",
    "def nCr(n, r): \n",
    "  \n",
    "    return (fact(n) / (fact(r) * fact(n - r)))\n",
    "def fact(n): \n",
    "  \n",
    "    res = 1\n",
    "      \n",
    "    for i in range(2, n+1): \n",
    "        res = res * i \n",
    "          \n",
    "    return res\n",
    "\n",
    "proba = (nCr(6,2)*(0.3**2)*(0.7**4))\n",
    "binomial = binom.rvs(n=6,p=0.3,size = 100000)\n",
    "print(\"probability of having 2 faulty LEDs in sample : {}\".format(proba))\n",
    "print(\"average value of the process {}\".format(np.mean(binomial)))\n",
    "print(\"std dev of the process {}\".format(sta.stdev(binomial)))"
   ]
  },
  {
   "cell_type": "markdown",
   "metadata": {},
   "source": [
    "Problem Statement 6:\n",
    "    \n",
    "Gaurav and Barakha are both preparing for entrance exams. Gaurav attempts to\n",
    "solve 8 questions per day with a correction rate of 75%, while Barakha averages\n",
    "around 12 questions per day with a correction rate of 45%. What is the probability\n",
    "that each of them will solve 5 questions correctly? What happens in cases of 4 and 6\n",
    "correct solutions? What do you infer from it? What are the two main governing\n",
    "factors affecting their ability to solve questions correctly? Give a pictorial\n",
    "representation of the same to validate your answer."
   ]
  },
  {
   "cell_type": "code",
   "execution_count": 8,
   "metadata": {},
   "outputs": [
    {
     "name": "stdout",
     "output_type": "stream",
     "text": [
      "Probability of Gaurav and Barakha solving 4 questions is : 0.086517333984375, 0.16996393213605848\n",
      "Probability of Gaurav and Barakha solving 5 questions is : 0.2076416015625, 0.22249823843265837\n",
      "Probability of Gaurav and Barakha solving 6 questions is : 0.31146240234375, 0.2123846821402648\n"
     ]
    }
   ],
   "source": [
    "#probability that each of them will solve 5 questions correctly\n",
    "\n",
    "def nCr(n, r): \n",
    "  \n",
    "    return (fact(n) / (fact(r) * fact(n - r)))\n",
    "def fact(n): \n",
    "  \n",
    "    res = 1\n",
    "      \n",
    "    for i in range(2, n+1): \n",
    "        res = res * i \n",
    "          \n",
    "    return res\n",
    "\n",
    "\n",
    "\n",
    "proba_of_Gaurav = (nCr(8,5)*(0.75**5)*(0.25**3))\n",
    "proba_of_Barakha = (nCr(12,5)*(0.45**5)*(0.55**7))\n",
    "\n",
    "#prob in case of 4 correct solutions\n",
    "proba_of_Gaurav_4 = (nCr(8,4)*(0.75**4)*(0.25**4))\n",
    "proba_of_Barakha_4 = (nCr(12,4)*(0.45**4)*(0.55**8))\n",
    "\n",
    "#prob in case of 6 correct solutions\n",
    "proba_of_Gaurav_6 = (nCr(8,6)*(0.75**6)*(0.25**2))\n",
    "proba_of_Barakha_6 = (nCr(12,6)*(0.45**6)*(0.55**6))\n",
    "print(\"Probability of Gaurav and Barakha solving 4 questions is : {}, {}\".format(proba_of_Gaurav_4,proba_of_Barakha_4))\n",
    "print(\"Probability of Gaurav and Barakha solving 5 questions is : {}, {}\".format(proba_of_Gaurav,proba_of_Barakha))\n",
    "print(\"Probability of Gaurav and Barakha solving 6 questions is : {}, {}\".format(proba_of_Gaurav_6,proba_of_Barakha_6))"
   ]
  },
  {
   "cell_type": "code",
   "execution_count": 9,
   "metadata": {},
   "outputs": [
    {
     "data": {
      "text/plain": [
       "[Text(0, 0.5, 'Frequency'), Text(0.5, 0, 'Binomial')]"
      ]
     },
     "execution_count": 9,
     "metadata": {},
     "output_type": "execute_result"
    },
    {
     "data": {
      "image/png": "[encoded data removed]",
      "text/plain": [
       "<Figure size 432x288 with 1 Axes>"
      ]
     },
     "metadata": {
      "needs_background": "light"
     },
     "output_type": "display_data"
    }
   ],
   "source": [
    "data_binom = binom.rvs(n=12,p=0.45,loc=0,size=1000)\n",
    "ax = sb.distplot(data_binom,\n",
    "                  kde=True,\n",
    "                  color='blue',\n",
    "                  hist_kws={\"linewidth\": 25,'alpha':1})\n",
    "ax.set(xlabel='Binomial', ylabel='Frequency')"
   ]
  },
  {
   "cell_type": "markdown",
   "metadata": {},
   "source": [
    "Problem Statement 7:\n",
    "\n",
    "Customers arrive at a rate of 72 per hour to my shop. What is the probability of k\n",
    "customers arriving in 4 minutes? a) 5 customers, b) not more than 3 customers, c)\n",
    "more than 3 customers. Give a pictorial representation of the same to validate your\n",
    "answer."
   ]
  },
  {
   "cell_type": "code",
   "execution_count": 10,
   "metadata": {},
   "outputs": [
    {
     "name": "stdout",
     "output_type": "stream",
     "text": [
      "probability of 5 customers arriving in 4 minutes: 0.17474768364388296 \n",
      "probability of not more than 3 customers arriving in 4 minutes: 0.29422991649656405 \n",
      "probability of more than 3 customers arriving in 4 minutes: 0.705770083503436 \n"
     ]
    },
    {
     "data": {
      "image/png": "[encoded data removed]",
      "text/plain": [
       "<Figure size 432x288 with 1 Axes>"
      ]
     },
     "metadata": {
      "needs_background": "light"
     },
     "output_type": "display_data"
    }
   ],
   "source": [
    "#  λ= 72per hr = 1.2 per min = 4.8 customers arriving per 4 minutes\n",
    "\n",
    "prob_of_5 = poisson.pmf(5,4.8)\n",
    "prob_of_notmorethan = (poisson.pmf(0,4.8))+(poisson.pmf(1,4.8))+(poisson.pmf(2,4.8))+(poisson.pmf(3,4.8))\n",
    "prob_of_morethan = 1-prob_of_notmorethan\n",
    "\n",
    "\n",
    "data_poss = poisson.rvs(mu=4.8, size=10000)\n",
    "ax = sb.distplot(data_poss,\n",
    "                  kde=True,\n",
    "                  color='green',\n",
    "                  hist_kws={\"linewidth\": 25,'alpha':1})\n",
    "ax.set(xlabel='Poisson', ylabel='Frequency')\n",
    "\n",
    "print(\"probability of 5 customers arriving in 4 minutes: {} \" .format(prob_of_5))\n",
    "print(\"probability of not more than 3 customers arriving in 4 minutes: {} \" .format(prob_of_notmorethan))\n",
    "print(\"probability of more than 3 customers arriving in 4 minutes: {} \" .format(prob_of_morethan))"
   ]
  },
  {
   "cell_type": "markdown",
   "metadata": {},
   "source": [
    "Problem Statement 8:\n",
    "\n",
    "I work as a data analyst in Aeon Learning Pvt. Ltd. After analyzing data, I make\n",
    "reports, where I have the efficiency of entering 77 words per minute with 6 errors per\n",
    "hour. What is the probability that I will commit 2 errors in a 455-word financial report?\n",
    "What happens when the no. of words increases/decreases (in case of 1000 words,\n",
    "255 words)?\n",
    "How is the λ affected?\n",
    "How does it influence the PMF?\n",
    "Give a pictorial representation of the same to validate your answer."
   ]
  },
  {
   "cell_type": "code",
   "execution_count": 11,
   "metadata": {},
   "outputs": [
    {
     "name": "stdout",
     "output_type": "stream",
     "text": [
      "Probability of getting 2 errors in a 455-word financial report: 0.09669027375144444\n",
      "Probability of getting 2 errors in a 1000-word financial report: 0.23012815007300153\n",
      "Probability of getting 2 errors in a 255-word financial report: 0.039377135392854125\n"
     ]
    }
   ],
   "source": [
    "#words per minute = 77\n",
    "#errors per hour = 6\n",
    "#errors per minute  = 6/60=0.1 errors\n",
    "#time take to complete 455 word financial report is = 455/77=5.909 minutes\n",
    "#errors for 5.909 minutes = 5.909*0.1 = 0.5909 errors\n",
    "#mu = 0.5909\n",
    "\n",
    "\n",
    "\n",
    "\n",
    "#function to caluculate λ value\n",
    "def calmu(words,wpm = 77,epm = 0.1):\n",
    "    time_taken = words/wpm\n",
    "    errors_in_time_taken = time_taken*epm\n",
    "    return(errors_in_time_taken)\n",
    "\n",
    "\n",
    "#probability that committing 2 errors in a 455-word financial report\n",
    "prob_at_2errors = poisson.pmf(2,calmu(455))\n",
    "\n",
    "#probability that committing 2 errors in a 1000-word financial report\n",
    "\n",
    "prob_at_2errors_1000 = poisson.pmf(2,calmu(1000))\n",
    "\n",
    "#probability that committing 2 errors in a 255-word financial report\n",
    "\n",
    "prob_at_2errors_255 = poisson.pmf(2,calmu(255))\n",
    "\n",
    "print(\"Probability of getting 2 errors in a 455-word financial report: {}\" .format(prob_at_2errors))\n",
    "print(\"Probability of getting 2 errors in a 1000-word financial report: {}\" .format(prob_at_2errors_1000))\n",
    "print(\"Probability of getting 2 errors in a 255-word financial report: {}\" .format(prob_at_2errors_255))\n",
    "\n",
    "\n"
   ]
  },
  {
   "cell_type": "code",
   "execution_count": 12,
   "metadata": {},
   "outputs": [
    {
     "data": {
      "text/plain": [
       "Text(0, 0.5, 'λ-Value')"
      ]
     },
     "execution_count": 12,
     "metadata": {},
     "output_type": "execute_result"
    },
    {
     "data": {
      "image/png": "[encoded data removed]",
      "text/plain": [
       "<Figure size 432x288 with 1 Axes>"
      ]
     },
     "metadata": {
      "needs_background": "light"
     },
     "output_type": "display_data"
    }
   ],
   "source": [
    "#plotting between no of words and λ value \n",
    "\n",
    "y_op = []\n",
    "inp=np.arange(1,10000)\n",
    "for i in inp:\n",
    "    y_op.append(calmu(i))\n",
    "plt.plot(inp,y_op)\n",
    "plt.xlabel(\"No of words\");plt.ylabel(\"λ-Value\")\n",
    "    "
   ]
  },
  {
   "cell_type": "code",
   "execution_count": 13,
   "metadata": {},
   "outputs": [
    {
     "data": {
      "text/plain": [
       "Text(0, 0.5, 'PMF-Value')"
      ]
     },
     "execution_count": 13,
     "metadata": {},
     "output_type": "execute_result"
    },
    {
     "data": {
      "image/png": "[encoded data removed]",
      "text/plain": [
       "<Figure size 432x288 with 1 Axes>"
      ]
     },
     "metadata": {
      "needs_background": "light"
     },
     "output_type": "display_data"
    }
   ],
   "source": [
    "#plotting between no of words and pmf at error rate = 2\n",
    "\n",
    "input_words=np.arange(1,10000)\n",
    "pmf = []\n",
    "\n",
    "for i in input_words:\n",
    "    pmf.append(poisson.pmf(2,calmu(i)))\n",
    "\n",
    "\n",
    "plt.plot(input_words,pmf)\n",
    "plt.xlabel(\"No of words\");plt.ylabel(\"PMF-Value\")\n",
    "\n",
    "\n",
    "    \n",
    "\n",
    "\n"
   ]
  },
  {
   "cell_type": "markdown",
   "metadata": {},
   "source": [
    "Problem Statement 10:\n",
    "\n",
    "Please compute the following:\n",
    "\n",
    "a) P(Z > 1.26), . P(Z < −0.86), P(Z > −1.37), P(−1.25 < Z < 0.37), . P(Z ≤ −4.6)\n",
    "\n",
    "b) Find the value z such that P(Z > z) = 0.05\n",
    "\n",
    "c) Find the value of z such that P(−z < Z < z) = 0.99"
   ]
  },
  {
   "cell_type": "code",
   "execution_count": 14,
   "metadata": {},
   "outputs": [
    {
     "name": "stdout",
     "output_type": "stream",
     "text": [
      "P(Z > 1.26) = 0.10383468112130045\n",
      "P(Z < −0.86) = 0.1948945212518084\n",
      "P(Z < −1.37) = 0.914656549178033\n",
      "P(−1.25 < Z < 0.37) = 0.5386589811336914\n",
      "P(Z ≤ −4.6) = 2.1124547025028537e-06\n"
     ]
    }
   ],
   "source": [
    "# a)  P(Z > 1.26)\n",
    "import scipy.stats as st\n",
    "prob_of_z = 1- st.norm.cdf(1.26)\n",
    "\n",
    "#P(Z < −0.86)\n",
    "\n",
    "prob1 = st.norm.cdf(-0.86)\n",
    "\n",
    "#P(Z < −1.37)\n",
    "\n",
    "prob2 = 1- st.norm.cdf(-1.37)\n",
    "\n",
    "#P(−1.25 < Z < 0.37)\n",
    "prob3 = (st.norm.cdf(0.37))-(st.norm.cdf(-1.25))\n",
    "\n",
    "#P(Z ≤ −4.6)\n",
    "prob4 = st.norm.cdf(-4.6)\n",
    "\n",
    "print(\"P(Z > 1.26) = {}\" .format(prob_of_z))\n",
    "print(\"P(Z < −0.86) = {}\" .format(prob1))\n",
    "print(\"P(Z < −1.37) = {}\" .format(prob2))\n",
    "print(\"P(−1.25 < Z < 0.37) = {}\" .format(prob3))\n",
    "print(\"P(Z ≤ −4.6) = {}\" .format(prob4))\n",
    "\n"
   ]
  },
  {
   "cell_type": "code",
   "execution_count": 15,
   "metadata": {},
   "outputs": [
    {
     "name": "stdout",
     "output_type": "stream",
     "text": [
      "Z-Value = : 1.6448536269514722\n"
     ]
    }
   ],
   "source": [
    "#b) Find the value z such that P(Z > z) = 0.05\n",
    "\n",
    "z_value = st.norm.ppf(1-0.05)\n",
    "print(\"Z-Value = : {}\" .format(z_value))"
   ]
  },
  {
   "cell_type": "code",
   "execution_count": 16,
   "metadata": {},
   "outputs": [
    {
     "name": "stdout",
     "output_type": "stream",
     "text": [
      "Z-Value for P(−z < Z < z) = : 2.5758293035489004\n"
     ]
    }
   ],
   "source": [
    "#c) Find the value of z such that P(−z < Z < z) = 0.99\n",
    "\n",
    "prob = ((1-0.99)/2)\n",
    "z_value = st.norm.ppf(prob)\n",
    "\n",
    "print(\"Z-Value for P(−z < Z < z) = : {}\" .format(-z_value))"
   ]
  },
  {
   "cell_type": "markdown",
   "metadata": {},
   "source": [
    "Problem Statement 11:\n",
    "\n",
    "The current flow in a copper wire follow a normal distribution with a mean of 10 mA\n",
    "and a variance of 4 (mA)2.\n",
    "What is the probability that a current measurement will exceed 13 mA? What is the\n",
    "probability that a current measurement is between 9 and 11mA? Determine the\n",
    "current measurement which has a probability of 0.98."
   ]
  },
  {
   "cell_type": "code",
   "execution_count": 17,
   "metadata": {},
   "outputs": [
    {
     "name": "stdout",
     "output_type": "stream",
     "text": [
      "Probability that a current measurement will exceed 13 mA: 0.06680720126885809\n",
      "Probability that a current measurement is between 9 and 11mA: 0.624655260005155\n",
      "The current measurement which has a probability of 0.98: 2.0537489106318225 \n"
     ]
    }
   ],
   "source": [
    "# mean=10, variance = 4, SD = 2\n",
    "\n",
    "#probability that a current measurement will exceed 13 mA p(X>13)\n",
    "\n",
    "z = (13-10)/2\n",
    "\n",
    "prob_value = 1-(st.norm.cdf(z))\n",
    "\n",
    "\n",
    "\n",
    "#probability that a current measurement will be between 9 and 11mA (9<p(X)<13)\n",
    "\n",
    "\n",
    "z_value_1 = (9-10)/2\n",
    "\n",
    "z_value_2=(13-10)/2\n",
    "\n",
    "prob_value_1 = st.norm.cdf(z_value_2)-st.norm.cdf(z_value_1)\n",
    "\n",
    "# the current measurement which has a probability of 0.98.\n",
    "\n",
    "z_value = st.norm.ppf(0.98)\n",
    "\n",
    "\n",
    "print(\"Probability that a current measurement will exceed 13 mA: {}\".format(prob_value))\n",
    "print(\"Probability that a current measurement is between 9 and 11mA: {}\".format(prob_value_1))\n",
    "print(\"The current measurement which has a probability of 0.98: {} \".format(z_value))\n"
   ]
  },
  {
   "cell_type": "markdown",
   "metadata": {},
   "source": [
    "Problem Statement 12:\n",
    "\n",
    "The shaft in a piston has its diameter normally distributed with a mean of 0.2508 inch\n",
    "and a standard deviation of 0.0005 inch. The specifications of the shaft are 0.2500 ∓\n",
    "0.0015 inch. What proportion of shafts are in sync with the specifications? If the\n",
    "process is centered so that the mean is equal to the target value of 0.2500, what\n",
    "proportion of shafts conform to the new specifications? What is your conclusion from\n",
    "this experiment?"
   ]
  },
  {
   "cell_type": "code",
   "execution_count": 18,
   "metadata": {},
   "outputs": [
    {
     "name": "stdout",
     "output_type": "stream",
     "text": [
      "Proportion of shafts which are in sync with the specifications = 91.924122831152\n",
      "Proportion of shafts when the process is centered so that the mean is equal to the target value of 0.2500 = 99.73002039367398\n"
     ]
    }
   ],
   "source": [
    "#what proportion of shafts are in sync with the specifications?\n",
    "\n",
    "#mean = 0.2508 and stddev = 0.0005\n",
    "\n",
    "#p(0.2485 < X < 0.2515)\n",
    "\n",
    "z1 = (0.2485-0.2508)/0.0005\n",
    "z2 = (0.2515-0.2508)/0.0005\n",
    "\n",
    "prob_valu = st.norm.cdf(z2)-st.norm.cdf(z1)\n",
    "\n",
    "\n",
    "#If the process is centered so that the mean is equal to the target value of 0.2500\n",
    "\n",
    "#p(0.2485 < X < 0.2515);  mean = 0.2500 and stddev = 0.0005\n",
    "\n",
    "\n",
    "z3 = (0.2485-0.2500)/0.0005\n",
    "z4 = (0.2515-0.2500)/0.0005\n",
    "\n",
    "prob_valu_1 = st.norm.cdf(z4)-st.norm.cdf(z3)\n",
    "\n",
    "\n",
    "print(\"Proportion of shafts which are in sync with the specifications = {}\".format(prob_valu*100))\n",
    "print(\"Proportion of shafts when the process is centered so that the mean is equal to the target value of 0.2500 = {}\".format(prob_valu_1*100))"
   ]
  },
  {
   "cell_type": "code",
   "execution_count": null,
   "metadata": {},
   "outputs": [],
   "source": []
  }
 ],
 "metadata": {
  "kernelspec": {
   "display_name": "Python 3",
   "language": "python",
   "name": "python3"
  },
  "language_info": {
   "codemirror_mode": {
    "name": "ipython",
    "version": 3
   },
   "file_extension": ".py",
   "mimetype": "text/x-python",
   "name": "python",
   "nbconvert_exporter": "python",
   "pygments_lexer": "ipython3",
   "version": "3.7.3"
  }
 },
 "nbformat": 4,
 "nbformat_minor": 4
}
